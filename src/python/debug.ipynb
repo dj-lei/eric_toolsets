{
 "cells": [
  {
   "cell_type": "code",
   "execution_count": null,
   "id": "afbc2e3a-893f-4652-b085-d5bb4c10dfc4",
   "metadata": {},
   "outputs": [],
   "source": [
    "import re\n",
    "import zlib\n",
    "import base64\n",
    "import datetime\n",
    "import numpy as np\n",
    "import pandas as pd\n",
    "import json\n",
    "import configparser\n",
    "from utils import *\n",
    "from sys import platform\n",
    "from elasticsearch import Elasticsearch\n",
    "\n",
    "# import torch\n",
    "# from tslearn.metrics import dtw, dtw_path\n",
    "# from tslearn.metrics import lcss, lcss_path\n",
    "# from transformers import BertTokenizer, BertModel\n",
    "# from sklearn.preprocessing import LabelEncoder\n",
    "# from sklearn.preprocessing import OneHotEncoder\n",
    "\n",
    "# device = torch.device('cuda' if torch.cuda.is_available() else 'cpu')\n",
    "# tokenizer = BertTokenizer.from_pretrained('google/bert_uncased_L-2_H-128_A-2')\n",
    "# model = BertModel.from_pretrained(\"google/bert_uncased_L-2_H-128_A-2\")\n",
    "# model = model.to(device)\n",
    "# device"
   ]
  },
  {
   "cell_type": "code",
   "execution_count": null,
   "id": "0253b509-184b-441e-9a6c-08d7d625752e",
   "metadata": {},
   "outputs": [],
   "source": [
    "cf = configparser.ConfigParser()\n",
    "cf.read('config/config.cfg')\n",
    "\n",
    "env = 'DEVELOP'\n",
    "if 'win' in platform:\n",
    "    env = 'DEVELOP'\n",
    "elif 'linux' in platform:\n",
    "    env = 'PRODUCT'\n",
    "    \n",
    "class EsCtrl(object):\n",
    "    def __init__(self):\n",
    "        self.es_ctrl = Elasticsearch(cf['ENV_'+env]['ADDR'], ca_certs=cf['ELASTICSEARCH']['CA_CERTS'])\n",
    "\n",
    "    def query_index_logs(self, index):\n",
    "        # query = {\n",
    "        #     \"match\": {\n",
    "        #         \"trace\": \"com_ericsson_trithread:INFO\"\n",
    "        #     }\n",
    "        # }\n",
    "        #data = self.es_ctrl.search(index=index, query=query, scroll='1s', size=10000)\n",
    "        data = self.es_ctrl.search(index=index, scroll='1s', size=10000)\n",
    "        sid = data['_scroll_id']\n",
    "        scroll_size = len(data['hits']['hits'])\n",
    "        res = []\n",
    "        while scroll_size > 0:\n",
    "            # Before scroll, process current batch of hits\n",
    "            res.extend(data['hits']['hits'])\n",
    "            data = self.es_ctrl.scroll(scroll_id=sid, scroll='1s')\n",
    "            # Update the scroll ID\n",
    "            sid = data['_scroll_id']\n",
    "            # Get the number of results that returned in the last scroll\n",
    "            scroll_size = len(data['hits']['hits'])\n",
    "        return res\n",
    "\n",
    "    def query_indices(self):\n",
    "        res = []\n",
    "        for key in self.es_ctrl.indices.get_alias().keys():\n",
    "            if len(key) > 0:\n",
    "                if '.analyzed_' in key:\n",
    "                    res.append(key.replace('.analyzed_', ''))\n",
    "        return res\n",
    "\n",
    "    def is_exists(self, index):\n",
    "        return self.es_ctrl.indices.exists(index=index)\n",
    "\n",
    "    def count_index(self, index):\n",
    "        return self.es_ctrl.count(index=index)['count']\n",
    "\n",
    "    def store_index(self, index, data):\n",
    "        data = deflate_and_base64_encode(json.dumps(data).encode('utf-8'))\n",
    "        return self.es_ctrl.index(index=index, body={'content': data})\n",
    "\n",
    "    def query_index(self, index):\n",
    "        data = self.es_ctrl.search(index=index)\n",
    "        data = json.loads(decode_base64_and_inflate(data['hits']['hits'][0]['_source']['content']))\n",
    "        return data"
   ]
  },
  {
   "cell_type": "code",
   "execution_count": null,
   "id": "arranged-construction",
   "metadata": {
    "scrolled": false
   },
   "outputs": [],
   "source": [
    "import numpy\n",
    "import matplotlib.pyplot as plt\n",
    "\n",
    "from tslearn.generators import random_walks\n",
    "from tslearn.preprocessing import TimeSeriesScalerMeanVariance\n",
    "from tslearn import metrics\n",
    "\n",
    "\n",
    "# numpy.random.seed(0)\n",
    "# n_ts, sz, d = 2, 100, 1\n",
    "# dataset = random_walks(n_ts=n_ts, sz=sz, d=d, random_state=5)\n",
    "\n",
    "kv_a = [int(item) for item in story_a['kv']['txlProcBranchH']['txAtt(c)'][0]]\n",
    "kv_b = [int(item) for item in story_b['kv']['txlProcBranchH']['txAtt(c)'][0]]\n",
    "[kv_b.insert(0,0) for _ in range(0, len(kv_a) - len(kv_b))]\n",
    "\n",
    "dataset = [kv_a, kv_b]\n",
    "scaler = TimeSeriesScalerMeanVariance(mu=0., std=1.)  # Rescale time series\n",
    "dataset_scaled = scaler.fit_transform(dataset)\n",
    "\n",
    "lcss_path, sim_lcss = metrics.lcss_path(dataset_scaled[0, :, 0], dataset_scaled[1, :, 0], eps=1.5)\n",
    "dtw_path, sim_dtw = metrics.dtw_path(dataset_scaled[0, :, 0], dataset_scaled[1, :, 0])\n",
    "\n",
    "plt.figure(1, figsize=(8, 8))\n",
    "\n",
    "plt.plot(dataset_scaled[0, :, 0], \"b-\", label='First time series')\n",
    "plt.plot(dataset_scaled[1, :, 0], \"g-\", label='Second time series')\n",
    "\n",
    "for positions in lcss_path:\n",
    "    plt.plot([positions[0], positions[1]],\n",
    "             [dataset_scaled[0, positions[0], 0], dataset_scaled[1, positions[1], 0]], color='orange')\n",
    "plt.legend()\n",
    "plt.title(\"Time series matching with LCSS\")\n",
    "\n",
    "plt.figure(2, figsize=(8, 8))\n",
    "plt.plot(dataset_scaled[0, :, 0], \"b-\", label='First time series')\n",
    "plt.plot(dataset_scaled[1, :, 0], \"g-\", label='Second time series')\n",
    "\n",
    "for positions in dtw_path:\n",
    "    plt.plot([positions[0], positions[1]],\n",
    "             [dataset_scaled[0, positions[0], 0], dataset_scaled[1, positions[1], 0]], color='orange')\n",
    "\n",
    "plt.legend()\n",
    "plt.title(\"Time series matching with DTW\")\n",
    "\n",
    "plt.tight_layout()\n",
    "plt.show()"
   ]
  },
  {
   "cell_type": "code",
   "execution_count": null,
   "id": "a5301e83",
   "metadata": {},
   "outputs": [],
   "source": [
    "from extract import *\n",
    "\n",
    "path = 'exiosuu_LTE_TALAGAKOCAK_GH_BXP_2053_telog'\n",
    "fe = FileExtract(path)"
   ]
  },
  {
   "cell_type": "code",
   "execution_count": null,
   "id": "2afe7250-7976-4c1a-879b-bd4b83ad470d",
   "metadata": {
    "jupyter": {
     "outputs_hidden": true
    },
    "tags": []
   },
   "outputs": [],
   "source": [
    "from tslearn.metrics import dtw, dtw_path\n",
    "from tslearn.metrics import lcss, lcss_path\n",
    "import numpy\n",
    "from scipy.spatial.distance import cdist\n",
    "import matplotlib.pyplot as plt\n",
    "from extract import *\n",
    "\n",
    "def cal_lcss_path_and_score(s_y1, s_y2):\n",
    "    path, score = lcss_path(s_y1, s_y2)\n",
    "    return path, score\n",
    "\n",
    "def cal_dtw_path_and_score(s_y1, s_y2):\n",
    "    path, score = dtw_path(s_y1, s_y2)\n",
    "    return path, score\n",
    "\n",
    "with open(cf['ENV_'+env]['LOG_STORE_PATH'] + 'GLT_SUKAMULYA_CBN_CM_BXP_2051_telog.log_BXP_2051_radio6626_2022_10_10', \"rb\") as myfile:\n",
    "    S = myfile.read()\n",
    "story_a = json.loads(gzip.decompress(S))\n",
    "\n",
    "with open(cf['ENV_'+env]['LOG_STORE_PATH'] + 'exiosuu_LTE_TALAGAKOCAK_GH_2052.log_BXP_2052_radio6626_2022_10_10', \"rb\") as myfile:\n",
    "    S = myfile.read()\n",
    "story_b = json.loads(gzip.decompress(S))"
   ]
  },
  {
   "cell_type": "code",
   "execution_count": null,
   "id": "raising-richmond",
   "metadata": {
    "scrolled": false
   },
   "outputs": [],
   "source": [
    "import numpy as np\n",
    "import pandas as pd\n",
    "import seaborn as sns\n",
    "from bisect import bisect\n",
    "\n",
    "def NormalizeData(data):\n",
    "    return (data - np.min(data)) / (np.max(data) - np.min(data))\n",
    "\n",
    "def del_list_inplace(l, id_to_del):\n",
    "    for i in sorted(id_to_del, reverse=True):\n",
    "        del(l[i])\n",
    "\n",
    "keyword = 'Pma(c)'\n",
    "final = pd.DataFrame()\n",
    "kv_a_global_indices = [int(item) for item in story_a['kv']['txlProcBranchH'][keyword][-1]]\n",
    "kv_b_global_indices = [int(item) for item in story_b['kv']['txlProcBranchH'][keyword][-1]]\n",
    "\n",
    "kv_a = [[i, kv_a_global_indices[i], float(item)] for i, item in enumerate(story_a['kv']['txlProcBranchH'][keyword][0])]\n",
    "kv_b = [[i, kv_b_global_indices[i], float(item)] for i, item in enumerate(story_b['kv']['txlProcBranchH'][keyword][0])]\n",
    "\n",
    "kv_a = pd.DataFrame(kv_a, columns=['x', 'global_index','value'])\n",
    "kv_a['category'] = 'story_a'\n",
    "kv_a['loop'] = 'origin'\n",
    "\n",
    "kv_b = pd.DataFrame(kv_b, columns=['x', 'global_index','value'])\n",
    "kv_b['category'] = 'story_b'\n",
    "kv_b['loop'] = 'origin'\n",
    "\n",
    "final = final.append(kv_a).reset_index(drop=True)\n",
    "final = final.append(kv_b).reset_index(drop=True)\n",
    "\n",
    "for loop,_ in enumerate(range(0, 2)):\n",
    "    path, score = lcss_path(NormalizeData(list(kv_a.value.values)), NormalizeData(list(kv_b.value.values)), eps=0.1)\n",
    "    o_a = [[i, kv_a['global_index'][item[0]], kv_a['value'][item[0]]] for i, item in enumerate(path)]\n",
    "    o_b = [[i, kv_b['global_index'][item[1]], kv_b['value'][item[1]]] for i, item in enumerate(path)]\n",
    "    tmp_a = pd.DataFrame(o_a, columns=['x', 'global_index','value'])\n",
    "    tmp_a['category'] = 'story_a'\n",
    "    tmp_a['loop'] = 'loop'+str(loop)\n",
    "    tmp_b = pd.DataFrame(o_b, columns=['x', 'global_index','value'])\n",
    "    tmp_b['category'] = 'story_b'\n",
    "    tmp_b['loop'] = 'loop'+str(loop)\n",
    "    final = final.append(tmp_a).reset_index(drop=True)\n",
    "    final = final.append(tmp_b).reset_index(drop=True)\n",
    "\n",
    "    kv_a = kv_a.drop(kv_a.index[ [item[0] for item in path] ]).reset_index(drop=True)\n",
    "    kv_b = kv_b.drop(kv_b.index[ [item[1] for item in path] ]).reset_index(drop=True)\n",
    "    \n",
    "sns.relplot(\n",
    "    data=final, kind=\"line\",\n",
    "    x=\"x\", y=\"value\", col=\"category\", hue=\"loop\")"
   ]
  },
  {
   "cell_type": "code",
   "execution_count": null,
   "id": "original-security",
   "metadata": {},
   "outputs": [],
   "source": [
    "tmp = final.loc[(final['loop'] != 'origin'), :].reset_index(drop=True)\n",
    "sns.relplot(\n",
    "    data=tmp, kind=\"line\",\n",
    "    x=\"x\", y=\"value\", col=\"category\", hue=\"loop\")"
   ]
  },
  {
   "cell_type": "code",
   "execution_count": null,
   "id": "another-thumbnail",
   "metadata": {},
   "outputs": [],
   "source": [
    "sns.relplot(\n",
    "    data=final, kind=\"line\",\n",
    "    x=\"global_index\", y=\"value\", col=\"category\", hue=\"loop\")"
   ]
  },
  {
   "cell_type": "code",
   "execution_count": null,
   "id": "ethical-intent",
   "metadata": {},
   "outputs": [],
   "source": [
    "process = 'txlProcBranchH'\n",
    "\n",
    "highlight_story = {}\n",
    "story_a_error_global_indices = []\n",
    "for i, p in enumerate(story_a['inverted_index_table']['error']['process']):\n",
    "    if p == process:\n",
    "        story_a_error_global_indices.append(int(story_a['inverted_index_table']['error']['x'][i]))\n",
    "        \n",
    "story_b_error_global_indices = []\n",
    "for i, p in enumerate(story_b['inverted_index_table']['error']['process']):\n",
    "    if p == process:\n",
    "        story_b_error_global_indices.append(int(story_b['inverted_index_table']['error']['x'][i]))\n",
    "\n",
    "highlight_story = {'story_a':story_a_error_global_indices, 'story_b':story_b_error_global_indices}"
   ]
  },
  {
   "cell_type": "code",
   "execution_count": null,
   "id": "banned-valve",
   "metadata": {
    "scrolled": true
   },
   "outputs": [],
   "source": [
    "res = []\n",
    "for loop in set(final.loop.values):\n",
    "    for story in set(final.category.values):\n",
    "        gi = final.loc[(final['loop'] == loop)&(final['category'] == story), :].global_index.values\n",
    "        print(loop, story, len(gi))\n",
    "        tmp = []\n",
    "        for index in highlight_story[story]:\n",
    "            tmp.append(bisect(gi, index))\n",
    "        res.append({'loop':loop, 'category':story, 'position': sorted(set(tmp), key=tmp.index)})\n",
    "res"
   ]
  },
  {
   "cell_type": "code",
   "execution_count": null,
   "id": "veterinary-bankruptcy",
   "metadata": {},
   "outputs": [],
   "source": [
    "np.std(final.loc[(final['loop'] == 'loop1')&(final['category'] == 'story_a'), :].value.values)"
   ]
  },
  {
   "cell_type": "code",
   "execution_count": null,
   "id": "regulation-russell",
   "metadata": {},
   "outputs": [],
   "source": [
    "np.std(final.loc[(final['loop'] == 'loop0')&(final['category'] == 'story_a'), :].value.values)"
   ]
  },
  {
   "cell_type": "code",
   "execution_count": null,
   "id": "alpine-elite",
   "metadata": {
    "scrolled": true
   },
   "outputs": [],
   "source": [
    "a = 132\n",
    "b = [0, 10, 30, 60, 100, 150, 210, 280, 340, 480, 530]\n",
    "print(bisect(b, a))"
   ]
  },
  {
   "cell_type": "code",
   "execution_count": null,
   "id": "crude-staff",
   "metadata": {
    "scrolled": true
   },
   "outputs": [],
   "source": [
    "# 1.值范围 2.相似线段形态 3.highlight落在区间内 4.方差大"
   ]
  },
  {
   "cell_type": "code",
   "execution_count": null,
   "id": "emerging-blues",
   "metadata": {},
   "outputs": [],
   "source": [
    "import re\n",
    "import time\n",
    "\n",
    "str1 = 'BXP_2: [2022-11-18 12:51:26.550407110] (+0.004950450) radio6626 com_ericsson_trithread:INFO: { cpu_id = 2 }, { process = \"txlProcBranchI\", fileAndLine = \"dpdController.cc:1886\", msg = \"Gain started. Pma:-21.79[-41.54 -9.50] dB, DpdPma:-25.83[-26.49 -25.09] dB, Pmb:-21.79, TorPmb:-21.92[-56.79 -9.50] dB, avgTxPma:-inf dB, pmDpdIrqStat:0x00000000, pmScaleFactor: 65K\" }\\n'\n",
    "regex = \"\\[%{TIMESTAMP:time}\\] %{DROP:tmp}txAtt:%{INT:txAtt}, %{DROP:tmp}avgIMpa0:%{INT:avgIMpa0} \"\n",
    "# regex = \"%{STRING:device}: \\[%{TIMESTAMP:time}\\] \"\n",
    "v_regex = regex\n",
    "for i, r in enumerate(re.findall('%\\{.*?\\}', regex)):\n",
    "    regex = regex.replace(r, '(.*?)')\n",
    "    v_regex = v_regex.replace(r, '<font color=\"color:#FFFFFF\">'+\"\\\\\"+str(i+1)+'</font>')\n",
    "\n",
    "re.findall(regex, str1)"
   ]
  },
  {
   "cell_type": "code",
   "execution_count": null,
   "id": "3aaa3be0",
   "metadata": {},
   "outputs": [],
   "source": [
    "import uuid\n",
    "import json #mcbPwr trxTxPwr\n",
    "\n",
    "path = 'save_log/Visby_Telog_All_Branch_txAtt_torpmb_avgImpa.txt'\n",
    "with open(path, 'r') as f:\n",
    "    theme = json.loads(f.read())"
   ]
  },
  {
   "cell_type": "code",
   "execution_count": null,
   "id": "outside-bride",
   "metadata": {},
   "outputs": [],
   "source": [
    "import json\n",
    "import uuid\n",
    "branch = ['A','B','C','D','E','F','G','H','I','J','K','L']\n",
    "config = {'search':[], 'chart':[], 'statistic':[]}\n",
    "for index in range(12):\n",
    "    item = {}\n",
    "    item['namespace'] = \"/TextAnalysis/FileContainer/a2fa67e3c46847cc92dd39971ebbefee/TextFileFunction/SearchFunction/\" + str(uuid.uuid4()).replace('-','')\n",
    "    item['alias'] = 'Branch' + str(branch[index])\n",
    "    item['desc'] = 'Branch ' + str(branch[index]) + ' common use KeyValue and Mark'\n",
    "    item['exp_search'] = '(txlProcBranch'+str(branch[index])+'|TxBranchCtrl'+str(branch[index])+').*(txAtt|linearization fault|external fault)'\n",
    "    item['exp_extract'] = [\n",
    "                        \"{}[{timestamp:ti}] {}txAtt:{txAtt:d}, {}torTemperature:{torTemperature:d} {}avgIMpa0:{avgIMpa0:d} {}\",\n",
    "                        \"{}[{timestamp:ti}] {}\"\n",
    "                        ]\n",
    "    item['exp_mark'] = [{\"alias\":\"LF\",\"exp\":\"linearization fault\",\"color\":\"#f00000\"}]\n",
    "    item['is_case_sensitive'] = True\n",
    "    item['forward_rows'] = 0\n",
    "    item['backward_rows'] = 0\n",
    "    config['search'].append(item)\n",
    "    \n",
    "# Serializing json\n",
    "json_object = json.dumps(config)\n",
    "# Writing to sample.json\n",
    "with open(\"D:\\\\projects\\\\ericsson_flow\\\\new_files\\\\config.txt\", \"w\") as outfile:\n",
    "    outfile.write(json_object)"
   ]
  },
  {
   "cell_type": "code",
   "execution_count": null,
   "id": "valuable-authorization",
   "metadata": {},
   "outputs": [],
   "source": [
    "import uuid\n",
    "branch = ['A','B','C','D','E','F','G','H','I','J','K','L']\n",
    "config = {'search':[], 'keyValueTree':[]}\n",
    "for index in range(12):\n",
    "    item = {}\n",
    "    item['uid'] = str(uuid.uuid4()).replace('-','')\n",
    "    item['desc'] = 'PA measured values for driver name ' + 'Branch' + str(branch[index])\n",
    "    item['search'] = 'PA & measured & driver'\n",
    "    item['regexs'] = [\n",
    "                        \"\\[%{TIMESTAMP:time}\\] %{DROP:tmp}PaVddSv:\"+str(index)+\"; value: %{INT:PaVddSv\"+str(index)+\"}; \",\n",
    "                        \"\\[%{TIMESTAMP:time}\\] %{DROP:tmp}DpaVddSv:\"+str(index)+\"; value: %{INT:DpaVddSv\"+str(index)+\"}; \",\n",
    "                        \"\\[%{TIMESTAMP:time}\\] %{DROP:tmp}IMpaSv:\"+str(index)+\"\\.0; value: %{INT:IMpaSv\"+str(index)+\"0}; \",\n",
    "                        \"\\[%{TIMESTAMP:time}\\] %{DROP:tmp}IMpaSv:\"+str(index)+\"\\.1; value: %{INT:IMpaSv\"+str(index)+\"1}; \",\n",
    "                        \"\\[%{TIMESTAMP:time}\\] %{DROP:tmp}IDpaSv:\"+str(index)+\"\\.0; value: %{INT:IDpaSv\"+str(index)+\"0}; \",\n",
    "                        \"\\[%{TIMESTAMP:time}\\] %{DROP:tmp}IDpaSv:\"+str(index)+\"\\.1; value: %{INT:IDpaSv\"+str(index)+\"1}; \",\n",
    "                        \"\\[%{TIMESTAMP:time}\\] \\(%{DROP:tmp}\\) \"\n",
    "                        ]\n",
    "    item['highlights'] = []\n",
    "    config['search'].append(item)"
   ]
  },
  {
   "cell_type": "code",
   "execution_count": null,
   "id": "classified-crazy",
   "metadata": {
    "scrolled": true
   },
   "outputs": [],
   "source": [
    "re.findall('txPma +: (.*?),(.*?)txDpdPma +: (.*?),(.*?)', str1, flags=re.DOTALL)"
   ]
  },
  {
   "cell_type": "code",
   "execution_count": null,
   "id": "weird-australian",
   "metadata": {},
   "outputs": [],
   "source": [
    "from utils import *\n",
    "from text_analysis import TextAnalysisModel\n",
    "\n",
    "search_model = {\n",
    "    \"namespace\": '',\n",
    "    'alias': 'test',\n",
    "    \"desc\": 'test search',\n",
    "    \"exp_search\": '(txlProcBranchJ|TxBranchCtrlJ).*(txAtt|linearization fault|external fault)',\n",
    "    \"exp_extract\": [\n",
    "                    '{}[{timestamp:ti}] {}txAtt:{txAtt:d}, {}torTemperature:{torTemperature:d} {}avgIMpa0:{avgIMpa0:d} {}',\n",
    "                    '{}[{timestamp:ti}] {}'\n",
    "                    ],\n",
    "    \"exp_mark\": [{'exp':'linearization fault', 'alias':'LF'}, {'exp':'external fault', 'alias':'EF'}],\n",
    "}\n",
    "\n",
    "statistic_model = {\n",
    "    \"namespace\": '',\n",
    "    'alias': 'statistic',\n",
    "    \"desc\": 'test statistic',\n",
    "    \"exp\": 'print(test.txAtt)',\n",
    "}\n",
    "\n",
    "path = 'D:\\\\projects\\\\ericsson_flow\\\\new_files\\\\E55G948878_LE_SARONGGE_BXP_6_telog.log'\n",
    "tes_text_analysis_model = TextAnalysisModel()\n",
    "\n",
    "text_file_model_namespace = tes_text_analysis_model.file_container_model.namespace + '/'+ str(uuid.uuid4())\n",
    "tes_text_analysis_model.file_container_model.on_new_file('', text_file_model_namespace, path)\n",
    "\n",
    "text_file_model = tes_text_analysis_model.file_container_model.text_file_models[text_file_model_namespace]\n",
    "model['namespace'] = text_file_model.text_file_function_model.search_function_model.namespace + '/'+ str(uuid.uuid4())\n",
    "search_function_model = tes_text_analysis_model.file_container_model.text_file_models[text_file_model_namespace].text_file_function_model.search_function_model.unit_test(model)\n",
    "search_atom_model = search_function_model.search_atom_models[model['namespace']].unit_test(model)"
   ]
  },
  {
   "cell_type": "code",
   "execution_count": null,
   "id": "respective-orbit",
   "metadata": {},
   "outputs": [],
   "source": [
    "search_atom_model.res_lines"
   ]
  },
  {
   "cell_type": "code",
   "execution_count": null,
   "id": "handed-collector",
   "metadata": {},
   "outputs": [],
   "source": [
    "text_file_model.lines[7736]"
   ]
  },
  {
   "cell_type": "code",
   "execution_count": null,
   "id": "italian-marks",
   "metadata": {
    "scrolled": true
   },
   "outputs": [],
   "source": [
    "search_atom_model.res_sign_coordinate"
   ]
  },
  {
   "cell_type": "code",
   "execution_count": null,
   "id": "traditional-fever",
   "metadata": {},
   "outputs": [],
   "source": [
    "import re\n",
    "from parse import parse\n",
    "\n",
    "str1 = 'BXP_3: [2022-11-23 22:04:44.572174570] (+0.000333470) radio6626 com_ericsson_trithread:INFO: { cpu_id = 1 }, { process = \"txlProcBranchB\", fileAndLine = \"dpdController.cc:1887\", msg = \"txAtt:289, txAttPeak:0, dpGainLoopEnable:true, dpGainCtrlType:DSA_AD_TXFE, torTemperature:495 (0.1C), torGainBackoff:0 (0.01dB), torGainLin:3.49543(0.01dB), torStepBit:6, cc0Ctrl1=0x00000118 , avgIMpa0:1980 [mAmp]\" }'\n",
    "str2 = 'BXP_3: [2022-12-10 15:55:26.739019220] (+0.000025340) radio6626 com_ericsson_trithread:INFO: { cpu_id = 1 }, { process = \"TxBranchCtrlB\", fileAndLine = \"txChangeCycleHelper.cc:264\", msg = \"Txl branch J restart due to txL linearization fault!\" }'\n",
    "# str1 = \"BXP_2: [221120 164014] 27: PA measured values for driver name: DpaVddSv:7; value: 26992; branch Id: 7\"\n",
    "# exp = \"\\[%{TIMESTAMP:time}\\] \\(%{STRING:cost}\\) \"\n",
    "# exp = \"\\[%{TIMESTAMP:time}\\] %{DROP:tmp}Pma:%{FLOAT:Pma0}\\[%{DROP:tmp1}DpdPma:%{FLOAT:DpdPma0}\\[%{DROP:tmp2}Pmb:%{FLOAT:Pmb}, TorPmb:%{FLOAT:TorPmb0}\\[%{FLOAT:TorPmb1} %{FLOAT:TorPmb2}\\] \"\n",
    "exp_search = '(txlProcBranchB|TxBranchCtrlB).*(txAtt|linearization fault)'\n",
    "exp_extract = '{}[{timestamp:ti}] {}txAtt:{txAtt:d}, {}torTemperature:{torTemperature:d} {}avgIMpa0:{avgIMpa0:d} {}'\n",
    "r_search = re.findall(exp_search, str1)\n",
    "r_extract = parse(exp_extract, str1)\n",
    "print(r_search)\n",
    "print(r_extract.named)"
   ]
  },
  {
   "cell_type": "code",
   "execution_count": 6,
   "id": "modular-channels",
   "metadata": {},
   "outputs": [],
   "source": [
    "from tslearn.metrics import lcss, lcss_path\n",
    "import numpy as np\n",
    "\n",
    "def cal_lcss_path_and_score(s_y1, s_y2):\n",
    "    path, score = lcss_path(s_y1, s_y2)\n",
    "    return path, score\n",
    "\n"
   ]
  },
  {
   "cell_type": "code",
   "execution_count": 25,
   "id": "israeli-saver",
   "metadata": {},
   "outputs": [
    {
     "data": {
      "text/plain": [
       "([(30, 0), (34, 1), (35, 2), (39, 3), (40, 4), (41, 5)], 1.0)"
      ]
     },
     "execution_count": 25,
     "metadata": {},
     "output_type": "execute_result"
    }
   ],
   "source": [
    "a = [24,255,255,255,255,24,255,255,255,255,24,255,255,255,255,24,255,255,255,255,24,255,255,255,255,24,255,255,255,255,24,255,255,255,255,24,255,255,255,255,24,255]\n",
    "b = [24,255,24,255,24,255]\n",
    "cal_lcss_path_and_score(a, b)"
   ]
  },
  {
   "cell_type": "code",
   "execution_count": 26,
   "id": "residential-acoustic",
   "metadata": {},
   "outputs": [
    {
     "data": {
      "text/plain": [
       "94.78528366787748"
      ]
     },
     "execution_count": 26,
     "metadata": {},
     "output_type": "execute_result"
    }
   ],
   "source": [
    "np.std(a)"
   ]
  },
  {
   "cell_type": "code",
   "execution_count": 27,
   "id": "behavioral-expert",
   "metadata": {},
   "outputs": [
    {
     "data": {
      "text/plain": [
       "115.5"
      ]
     },
     "execution_count": 27,
     "metadata": {},
     "output_type": "execute_result"
    }
   ],
   "source": [
    "np.std(b)"
   ]
  },
  {
   "cell_type": "code",
   "execution_count": 28,
   "id": "removed-commission",
   "metadata": {},
   "outputs": [
    {
     "data": {
      "text/plain": [
       "0.8206518066482898"
      ]
     },
     "execution_count": 28,
     "metadata": {},
     "output_type": "execute_result"
    }
   ],
   "source": [
    "np.std(a) / np.std(b)"
   ]
  },
  {
   "cell_type": "code",
   "execution_count": null,
   "id": "digital-understanding",
   "metadata": {},
   "outputs": [],
   "source": []
  }
 ],
 "metadata": {
  "kernelspec": {
   "display_name": "Python 3",
   "language": "python",
   "name": "python3"
  },
  "language_info": {
   "codemirror_mode": {
    "name": "ipython",
    "version": 3
   },
   "file_extension": ".py",
   "mimetype": "text/x-python",
   "name": "python",
   "nbconvert_exporter": "python",
   "pygments_lexer": "ipython3",
   "version": "3.8.8"
  }
 },
 "nbformat": 4,
 "nbformat_minor": 5
}
