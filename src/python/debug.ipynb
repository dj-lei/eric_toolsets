{
 "cells": [
  {
   "cell_type": "code",
   "execution_count": null,
   "id": "afbc2e3a-893f-4652-b085-d5bb4c10dfc4",
   "metadata": {},
   "outputs": [],
   "source": [
    "import re\n",
    "import zlib\n",
    "import base64\n",
    "import datetime\n",
    "import numpy as np\n",
    "import pandas as pd\n",
    "import json\n",
    "import configparser\n",
    "from utils import *\n",
    "from sys import platform\n",
    "from elasticsearch import Elasticsearch"
   ]
  },
  {
   "cell_type": "code",
   "execution_count": null,
   "id": "0253b509-184b-441e-9a6c-08d7d625752e",
   "metadata": {},
   "outputs": [],
   "source": [
    "cf = configparser.ConfigParser()\n",
    "cf.read('config/config.cfg')\n",
    "\n",
    "env = 'DEVELOP'\n",
    "if 'win' in platform:\n",
    "    env = 'DEVELOP'\n",
    "elif 'linux' in platform:\n",
    "    env = 'PRODUCT'\n",
    "    \n",
    "class EsCtrl(object):\n",
    "    def __init__(self):\n",
    "        self.es_ctrl = Elasticsearch(cf['ENV_'+env]['ADDR'], ca_certs=cf['ELASTICSEARCH']['CA_CERTS'])\n",
    "\n",
    "    def query_index_logs(self, index):\n",
    "        # query = {\n",
    "        #     \"match\": {\n",
    "        #         \"trace\": \"com_ericsson_trithread:INFO\"\n",
    "        #     }\n",
    "        # }\n",
    "        #data = self.es_ctrl.search(index=index, query=query, scroll='1s', size=10000)\n",
    "        data = self.es_ctrl.search(index=index, scroll='1s', size=10000)\n",
    "        sid = data['_scroll_id']\n",
    "        scroll_size = len(data['hits']['hits'])\n",
    "        res = []\n",
    "        while scroll_size > 0:\n",
    "            # Before scroll, process current batch of hits\n",
    "            res.extend(data['hits']['hits'])\n",
    "            data = self.es_ctrl.scroll(scroll_id=sid, scroll='1s')\n",
    "            # Update the scroll ID\n",
    "            sid = data['_scroll_id']\n",
    "            # Get the number of results that returned in the last scroll\n",
    "            scroll_size = len(data['hits']['hits'])\n",
    "        return res\n",
    "\n",
    "    def query_indices(self):\n",
    "        res = []\n",
    "        for key in self.es_ctrl.indices.get_alias().keys():\n",
    "            if len(key) > 0:\n",
    "                if '.analyzed_' in key:\n",
    "                    res.append(key.replace('.analyzed_', ''))\n",
    "        return res\n",
    "\n",
    "    def is_exists(self, index):\n",
    "        return self.es_ctrl.indices.exists(index=index)\n",
    "\n",
    "    def count_index(self, index):\n",
    "        return self.es_ctrl.count(index=index)['count']\n",
    "\n",
    "    def store_index(self, index, data):\n",
    "        data = deflate_and_base64_encode(json.dumps(data).encode('utf-8'))\n",
    "        return self.es_ctrl.index(index=index, body={'content': data})\n",
    "\n",
    "    def query_index(self, index):\n",
    "        data = self.es_ctrl.search(index=index)\n",
    "        data = json.loads(decode_base64_and_inflate(data['hits']['hits'][0]['_source']['content']))\n",
    "        return data"
   ]
  },
  {
   "cell_type": "code",
   "execution_count": null,
   "id": "crude-staff",
   "metadata": {
    "scrolled": true
   },
   "outputs": [],
   "source": [
    "# 1.值范围 2.相似线段形态 3.highlight落在区间内 4.方差大"
   ]
  },
  {
   "cell_type": "code",
   "execution_count": 12,
   "id": "bearing-activity",
   "metadata": {},
   "outputs": [],
   "source": [
    "import json\n",
    "import uuid\n",
    "branch = ['A','B','C','D','E','F','G','H','I','J','K','L']\n",
    "config = {'search':[], 'insight':[], 'chart':[], 'statistic':[]}\n",
    "# for index in range(12):\n",
    "#     item = {}\n",
    "#     item['alias'] = 'search_branch' + str(branch[index])\n",
    "#     item['desc'] = 'Branch ' + str(branch[index]) + ' common use KeyValue and Mark'\n",
    "#     item['exp_search'] = '(txlProcBranch'+str(branch[index])+'|TxBranchCtrl'+str(branch[index])+').*(txAtt|linearization fault|external fault)'\n",
    "#     item['exp_extract'] = [\n",
    "#                         \"{}[{timestamp:ti}] {}txAtt:{txAtt:d}, {}torTemperature:{torTemperature:d} {}avgIMpa0:{avgIMpa0:d} {}\",\n",
    "#                         \"{}[{timestamp:ti}] {}\"\n",
    "#                         ]\n",
    "#     item['exp_mark'] = [{\"alias\":\"LF\",\"exp\":\"linearization fault\",\"color\":\"#f00000\"}]\n",
    "#     item['is_case_sensitive'] = True\n",
    "#     item['forward_rows'] = 0\n",
    "#     item['backward_rows'] = 0\n",
    "#     config['search'].append(item)\n",
    "\n",
    "for index in range(12):\n",
    "    item = {}\n",
    "    item['alias'] = 'insight_branch' + str(branch[index])\n",
    "    item['desc'] = 'Branch Insight' + str(branch[index])\n",
    "    item['exp_search'] = '(txlProcBranch'+str(branch[index])+'|TxBranchCtrl'+str(branch[index])+')'\n",
    "    item['exp_extract'] = \"{}[{timestamp:ti}]{}, msg = {msg}\"\n",
    "    item['exp_mark'] = {\"alias\":\"LF\",\"exp\":\"linearization fault\",\"color\":\"#f00000\"}\n",
    "    item['is_case_sensitive'] = True\n",
    "    item['forward_rows'] = 0\n",
    "    item['backward_rows'] = 0\n",
    "    config['insight'].append(item)\n",
    "\n",
    "# for index in range(12):\n",
    "#     item = {}\n",
    "#     item['alias'] = 'statistic_branch' + str(branch[index])\n",
    "#     item['desc'] = 'Branch ' + str(branch[index]) + ' statistic txAtt'\n",
    "#     item['code'] = \"self.result = self.text_analysis_model.alias_data['\" + 'search_branch' + str(branch[index]) + \"'].res_key_value['txAtt']['global_index']\"\n",
    "#     config['statistic'].append(item)\n",
    "    \n",
    "json_object = json.dumps(config)\n",
    "with open(\"D:\\\\projects\\\\ericsson_flow\\\\new_files\\\\config2.txt\", \"w\") as outfile:\n",
    "    outfile.write(json_object)"
   ]
  },
  {
   "cell_type": "code",
   "execution_count": null,
   "id": "traditional-fever",
   "metadata": {},
   "outputs": [],
   "source": [
    "import re\n",
    "from parse import parse\n",
    "\n",
    "str1 = 'BXP_3: [2022-11-23 22:04:44.572174570] (+0.000333470) radio6626 com_ericsson_trithread:INFO: { cpu_id = 1 }, { process = \"txlProcBranchB\", fileAndLine = \"dpdController.cc:1887\", msg = \"txAtt:289, txAttPeak:0, dpGainLoopEnable:true, dpGainCtrlType:DSA_AD_TXFE, torTemperature:495 (0.1C), torGainBackoff:0 (0.01dB), torGainLin:3.49543(0.01dB), torStepBit:6, cc0Ctrl1=0x00000118 , avgIMpa0:1980 [mAmp]\" }'\n",
    "str2 = 'BXP_3: [2022-12-10 15:55:26.739019220] (+0.000025340) radio6626 com_ericsson_trithread:INFO: { cpu_id = 1 }, { process = \"TxBranchCtrlB\", fileAndLine = \"txChangeCycleHelper.cc:264\", msg = \"Txl branch J restart due to txL linearization fault!\" }'\n",
    "# str1 = \"BXP_2: [221120 164014] 27: PA measured values for driver name: DpaVddSv:7; value: 26992; branch Id: 7\"\n",
    "# exp = \"\\[%{TIMESTAMP:time}\\] \\(%{STRING:cost}\\) \"\n",
    "# exp = \"\\[%{TIMESTAMP:time}\\] %{DROP:tmp}Pma:%{FLOAT:Pma0}\\[%{DROP:tmp1}DpdPma:%{FLOAT:DpdPma0}\\[%{DROP:tmp2}Pmb:%{FLOAT:Pmb}, TorPmb:%{FLOAT:TorPmb0}\\[%{FLOAT:TorPmb1} %{FLOAT:TorPmb2}\\] \"\n",
    "exp_search = '(txlProcBranchB|TxBranchCtrlB).*(txAtt|linearization fault)'\n",
    "exp_extract = '{}[{timestamp:ti}] {}txAtt:{txAtt:d}, {}torTemperature:{torTemperature:d} {}avgIMpa0:{avgIMpa0:d} {}'\n",
    "r_search = re.findall(exp_search, str1)\n",
    "r_extract = parse(exp_extract, str1)\n",
    "print(r_search)\n",
    "print(r_extract.named)"
   ]
  },
  {
   "cell_type": "code",
   "execution_count": null,
   "id": "amino-potato",
   "metadata": {
    "scrolled": true
   },
   "outputs": [],
   "source": [
    "aaa = 111\n",
    "class A():\n",
    "    def __init__(self, data):\n",
    "        self.a = 1\n",
    "        self.b = 2\n",
    "        self.__dict__.update(data)\n",
    "        \n",
    "    def test(self, num):\n",
    "#         aaa = 222\n",
    "        print(aaa)\n",
    "\n",
    "class B(A):\n",
    "    def __init__(self):\n",
    "        super().__init__()\n",
    "        self.c = 3\n",
    "        self.d = {'ins': ''}\n",
    "        \n",
    "a = A({'a':3, 'b':4})\n",
    "# b = B()\n",
    "# data = {'a':a, 'b':b}"
   ]
  },
  {
   "cell_type": "code",
   "execution_count": null,
   "id": "5caf02c9",
   "metadata": {},
   "outputs": [],
   "source": [
    "class A:\n",
    "    def __init__(self):\n",
    "        self.a = 1\n",
    "\n",
    "class B(A):\n",
    "    def __init__(self):\n",
    "        super().__init__()\n",
    "        self.b = 2\n",
    "        self.c = C()\n",
    "\n",
    "        \n",
    "    def set_attr(self):\n",
    "        exec(\"self.a['a']['b']['c'] = 'aaa'\")\n",
    "        \n",
    "class C():\n",
    "    def __init__(self):\n",
    "        self.c = 3\n",
    "\n",
    "c = B()\n",
    "c.a = {'a':{'b':{'c':'foo', 'e':12 , 'f':True}}}\n",
    "\n",
    "b = B()\n",
    "b.a = {'a':{'b':{'c':42, 'd':33, 'f':False}}}\n",
    "b.b = 3"
   ]
  },
  {
   "cell_type": "code",
   "execution_count": null,
   "id": "a347538a",
   "metadata": {},
   "outputs": [],
   "source": [
    "from deepdiff import DeepDiff\n",
    "\n",
    "item1 = {'a':{'b':{'c':'foo', 'e':12 , 'f':True}}}\n",
    "item2 = {'a':{'b':{'c':42, 'd':33, 'f':False}}}\n",
    "DeepDiff(item1, item2)"
   ]
  },
  {
   "cell_type": "code",
   "execution_count": null,
   "id": "4dfd9960",
   "metadata": {},
   "outputs": [],
   "source": [
    "DeepDiff(c.a, b.a)"
   ]
  },
  {
   "cell_type": "code",
   "execution_count": 9,
   "id": "rolled-measure",
   "metadata": {},
   "outputs": [
    {
     "data": {
      "text/plain": [
       "['', 'a', 'b', 'c', 'd']"
      ]
     },
     "execution_count": 9,
     "metadata": {},
     "output_type": "execute_result"
    }
   ],
   "source": [
    "str1 = '/a/b/c/d'\n",
    "str1.split('/')"
   ]
  },
  {
   "cell_type": "code",
   "execution_count": null,
   "id": "driving-retailer",
   "metadata": {
    "scrolled": true
   },
   "outputs": [],
   "source": [
    "import re\n",
    "import json\n",
    "from text_analysis import TextAnalysisModel\n",
    "\n",
    "text_analysis_model = await TextAnalysisModel('parallel', mode = 'test')\n",
    "\n",
    "file_path = ['D:\\\\Projects\\\\ericsson_flow\\\\new_files\\\\E55G948878_LE_SARONGGE_BXP_6_telog.log']\n",
    "config_path = 'D:\\\\Projects\\\\ericsson_flow\\\\new_files\\\\config2.txt'\n",
    "config = [config_path, json.dumps(json.load(open(config_path)))]\n",
    "\n",
    "await text_analysis_model.file_container_model.on_new_file('', file_path)\n",
    "await text_analysis_model.file_container_model.on_load_config('', config)\n",
    "\n",
    "for key in text_analysis_model.alias_data.keys():\n",
    "    print(key, len(text_analysis_model.alias_data[key].outlier))"
   ]
  },
  {
   "cell_type": "code",
   "execution_count": null,
   "id": "9cc0eeb8",
   "metadata": {
    "scrolled": true
   },
   "outputs": [],
   "source": [
    "for index, item in enumerate(text_analysis_model.alias_data['insight_branchJ'].outlier):\n",
    "    if item['abnormal_type'] == 'AbnormalUpPulse':\n",
    "        print(index, item['timestamp'], item['desc'], re.findall('msg = \"(.*?)\"', item['origin']))"
   ]
  },
  {
   "cell_type": "code",
   "execution_count": null,
   "id": "4bced4b4",
   "metadata": {},
   "outputs": [],
   "source": [
    "import spacy\n",
    "nlp = spacy.load(\"en_core_web_sm\")\n",
    "\n",
    "import en_core_web_sm\n",
    "nlp = en_core_web_sm.load()"
   ]
  },
  {
   "cell_type": "code",
   "execution_count": null,
   "id": "80519cfe",
   "metadata": {},
   "outputs": [],
   "source": [
    "def self_clean_special_symbols(text, symbol):\n",
    "    for ch in ['.', '_','-']:\n",
    "        if ch in text:\n",
    "            text = text.replace(ch,symbol)\n",
    "    text = re.sub(r'\\d+', '', text)\n",
    "    return re.sub(symbol+\"+\", symbol, text)\n",
    "        \n",
    "def camel_case_split(s):\n",
    "    idx = list(map(str.isupper, s))\n",
    "    # mark change of case\n",
    "    l = [0]\n",
    "    for (i, (x, y)) in enumerate(zip(idx, idx[1:])):\n",
    "        if x and not y:  # \"Ul\"\n",
    "            l.append(i)\n",
    "        elif not x and y:  # \"lU\"\n",
    "            l.append(i+1)\n",
    "    l.append(len(s))\n",
    "    # for \"lUl\", index of \"U\" will pop twice, have to filter that\n",
    "    return [s[x:y].lower() for x, y in zip(l, l[1:]) if x < y]\n",
    "\n",
    "special_words = set(['timeout', 'fault', 'error', 'abn', 'shutdown', 'deactivate' , 'activate'])\n",
    "for index, item in enumerate(text_analysis_model.alias_data['insight_branchI'].outlier):\n",
    "    if item['abnormal_type'] == 'UniquePrint':\n",
    "        t = self_clean_special_symbols(item['value'], ' ')\n",
    "        tmpwords = t.split(' ')\n",
    "        words = []\n",
    "        [words.extend(camel_case_split(word)) for word in tmpwords]\n",
    "        doc = nlp(' '.join(words))\n",
    "        pos = [w.pos_ for w in doc]\n",
    "        flag = True if len(set(pos).intersection(set(['VERB', 'AUX']))) > 0 else False\n",
    "        flag = True if len(set(words).intersection(special_words)) > 0 else flag\n",
    "        if flag == True:\n",
    "            print(index, flag, item['value'], re.findall('msg = \"(.*?)\"', item['origin']), set(pos))\n",
    "#         print(index, item['abnormal_type'], item['value'], re.findall('msg = \"(.*?)\"', item['origin']))\n",
    "        \n",
    "# camel_case_split('IPaddress')\n",
    "# doc = nlp(\"77868817us\")\n",
    "# print([(w.text, w.pos_) for w in doc]) 39"
   ]
  },
  {
   "cell_type": "code",
   "execution_count": null,
   "id": "2b246cf1",
   "metadata": {},
   "outputs": [],
   "source": [
    "re.sub(r'\\d+', '',\"hello 42 I'm a 32 string 30\")"
   ]
  },
  {
   "cell_type": "code",
   "execution_count": null,
   "id": "86c4d8bc",
   "metadata": {},
   "outputs": [],
   "source": [
    "doc = nlp(\"Training Signal sequence successfully done Activated\")\n",
    "print([(w.text, w.pos_) for w in doc])"
   ]
  },
  {
   "cell_type": "code",
   "execution_count": 1,
   "id": "plastic-interstate",
   "metadata": {},
   "outputs": [
    {
     "name": "stderr",
     "output_type": "stream",
     "text": [
      "D:\\projects\\ericsson_toolsets\\src\\python\\text_analysis.py:1352: FutureWarning: The frame.append method is deprecated and will be removed from pandas in a future version. Use pandas.concat instead.\n",
      "  self.result = self.result.append(sample, ignore_index=True)\n"
     ]
    },
    {
     "name": "stdout",
     "output_type": "stream",
     "text": [
      "Finish : E55G948878_LE_SARONGGE_BXP_6_telog.log\n",
      "Finish : E55H060478_LE_JLADANSUKAHATI_CBX_PL_BXP_6_telog.log\n"
     ]
    },
    {
     "name": "stderr",
     "output_type": "stream",
     "text": [
      "D:\\projects\\ericsson_toolsets\\src\\python\\text_analysis.py:1352: FutureWarning: The frame.append method is deprecated and will be removed from pandas in a future version. Use pandas.concat instead.\n",
      "  self.result = self.result.append(sample, ignore_index=True)\n"
     ]
    }
   ],
   "source": [
    "import re\n",
    "import json\n",
    "from text_analysis import TextAnalysisModel\n",
    "\n",
    "text_analysis_model = await TextAnalysisModel('parallel', mode = 'test')\n",
    "\n",
    "dir_path = 'D:\\\\projects\\\\ericsson_flow\\\\batch_test'\n",
    "config = 'D:\\\\projects\\\\ericsson_flow\\\\new_files\\\\config2.txt'\n",
    "\n",
    "await text_analysis_model.file_container_model.batch_insight_model.new(dir_path, config)"
   ]
  },
  {
   "cell_type": "code",
   "execution_count": 7,
   "id": "decent-third",
   "metadata": {},
   "outputs": [
    {
     "data": {
      "text/html": [
       "<div>\n",
       "<style scoped>\n",
       "    .dataframe tbody tr th:only-of-type {\n",
       "        vertical-align: middle;\n",
       "    }\n",
       "\n",
       "    .dataframe tbody tr th {\n",
       "        vertical-align: top;\n",
       "    }\n",
       "\n",
       "    .dataframe thead th {\n",
       "        text-align: right;\n",
       "    }\n",
       "</style>\n",
       "<table border=\"1\" class=\"dataframe\">\n",
       "  <thead>\n",
       "    <tr style=\"text-align: right;\">\n",
       "      <th></th>\n",
       "      <th>name</th>\n",
       "      <th>type</th>\n",
       "      <th>abnormal_type</th>\n",
       "      <th>global_index</th>\n",
       "      <th>search_index</th>\n",
       "      <th>timestamp</th>\n",
       "      <th>value</th>\n",
       "      <th>desc</th>\n",
       "      <th>origin</th>\n",
       "    </tr>\n",
       "  </thead>\n",
       "  <tbody>\n",
       "    <tr>\n",
       "      <th>0</th>\n",
       "      <td>txlSrv.cc</td>\n",
       "      <td>float</td>\n",
       "      <td>AbnormalUpPulse</td>\n",
       "      <td>15632</td>\n",
       "      <td>222</td>\n",
       "      <td>2022-12-10 18:45:25.591580</td>\n",
       "      <td>txlSrv.cc_AbnormalUpPulse</td>\n",
       "      <td>txlSrv.cc:  564.0 --&gt; 626.0 --&gt; 564.0</td>\n",
       "      <td>BXP_6: [2022-12-10 18:45:25.591580320] (+0.000...</td>\n",
       "    </tr>\n",
       "    <tr>\n",
       "      <th>1</th>\n",
       "      <td>10</td>\n",
       "      <td>float</td>\n",
       "      <td>AbnormalUpPulse</td>\n",
       "      <td>15600</td>\n",
       "      <td>204</td>\n",
       "      <td>2022-12-10 18:45:23.760677</td>\n",
       "      <td>10_AbnormalUpPulse</td>\n",
       "      <td>10:  1.0 --&gt; 7.0 --&gt; 1.0</td>\n",
       "      <td>BXP_6: [2022-12-10 18:45:23.760677490] (+0.010...</td>\n",
       "    </tr>\n",
       "    <tr>\n",
       "      <th>2</th>\n",
       "      <td>avgIMpa0</td>\n",
       "      <td>float</td>\n",
       "      <td>AbnormalUpPulse</td>\n",
       "      <td>15585</td>\n",
       "      <td>189</td>\n",
       "      <td>2022-12-10 18:45:23.746493</td>\n",
       "      <td>avgIMpa0_AbnormalUpPulse</td>\n",
       "      <td>avgIMpa0:  0.0 --&gt; 490.0 --&gt; 0.0</td>\n",
       "      <td>BXP_6: [2022-12-10 18:45:23.746493610] (+0.000...</td>\n",
       "    </tr>\n",
       "    <tr>\n",
       "      <th>3</th>\n",
       "      <td>txAtt</td>\n",
       "      <td>float</td>\n",
       "      <td>AbnormalUpPulse</td>\n",
       "      <td>15584</td>\n",
       "      <td>188</td>\n",
       "      <td>2022-12-10 18:45:23.746474</td>\n",
       "      <td>txAtt_AbnormalUpPulse</td>\n",
       "      <td>txAtt:  341.0 --&gt; 2500.0 --&gt; 341.0</td>\n",
       "      <td>BXP_6: [2022-12-10 18:45:23.746474840] (+0.001...</td>\n",
       "    </tr>\n",
       "    <tr>\n",
       "      <th>4</th>\n",
       "      <td>list</td>\n",
       "      <td>float</td>\n",
       "      <td>AbnormalUpPulse</td>\n",
       "      <td>12593</td>\n",
       "      <td>141</td>\n",
       "      <td>2022-12-10 18:45:17.598833</td>\n",
       "      <td>list_AbnormalUpPulse</td>\n",
       "      <td>list:  0.0 --&gt; 9.0 --&gt; 0.0</td>\n",
       "      <td>BXP_6: [2022-12-10 18:45:17.598833690] (+0.000...</td>\n",
       "    </tr>\n",
       "    <tr>\n",
       "      <th>5</th>\n",
       "      <td>fbsId</td>\n",
       "      <td>float</td>\n",
       "      <td>AbnormalUpPulse</td>\n",
       "      <td>10982</td>\n",
       "      <td>12</td>\n",
       "      <td>2022-12-10 18:45:17.086798</td>\n",
       "      <td>fbsId_AbnormalUpPulse</td>\n",
       "      <td>fbsId:  1.0 --&gt; 2.0 --&gt; 1.0</td>\n",
       "      <td>BXP_6: [2022-12-10 18:45:17.086798670] (+0.000...</td>\n",
       "    </tr>\n",
       "    <tr>\n",
       "      <th>6</th>\n",
       "      <td>carrierId</td>\n",
       "      <td>float</td>\n",
       "      <td>AbnormalUpPulse</td>\n",
       "      <td>10982</td>\n",
       "      <td>12</td>\n",
       "      <td>2022-12-10 18:45:17.086798</td>\n",
       "      <td>carrierId_AbnormalUpPulse</td>\n",
       "      <td>carrierId:  784.0 --&gt; 796.0 --&gt; 784.0</td>\n",
       "      <td>BXP_6: [2022-12-10 18:45:17.086798670] (+0.000...</td>\n",
       "    </tr>\n",
       "  </tbody>\n",
       "</table>\n",
       "</div>"
      ],
      "text/plain": [
       "        name   type    abnormal_type  global_index  search_index  \\\n",
       "0  txlSrv.cc  float  AbnormalUpPulse         15632           222   \n",
       "1         10  float  AbnormalUpPulse         15600           204   \n",
       "2   avgIMpa0  float  AbnormalUpPulse         15585           189   \n",
       "3      txAtt  float  AbnormalUpPulse         15584           188   \n",
       "4       list  float  AbnormalUpPulse         12593           141   \n",
       "5      fbsId  float  AbnormalUpPulse         10982            12   \n",
       "6  carrierId  float  AbnormalUpPulse         10982            12   \n",
       "\n",
       "                    timestamp                      value  \\\n",
       "0  2022-12-10 18:45:25.591580  txlSrv.cc_AbnormalUpPulse   \n",
       "1  2022-12-10 18:45:23.760677         10_AbnormalUpPulse   \n",
       "2  2022-12-10 18:45:23.746493   avgIMpa0_AbnormalUpPulse   \n",
       "3  2022-12-10 18:45:23.746474      txAtt_AbnormalUpPulse   \n",
       "4  2022-12-10 18:45:17.598833       list_AbnormalUpPulse   \n",
       "5  2022-12-10 18:45:17.086798      fbsId_AbnormalUpPulse   \n",
       "6  2022-12-10 18:45:17.086798  carrierId_AbnormalUpPulse   \n",
       "\n",
       "                                    desc  \\\n",
       "0  txlSrv.cc:  564.0 --> 626.0 --> 564.0   \n",
       "1               10:  1.0 --> 7.0 --> 1.0   \n",
       "2       avgIMpa0:  0.0 --> 490.0 --> 0.0   \n",
       "3     txAtt:  341.0 --> 2500.0 --> 341.0   \n",
       "4             list:  0.0 --> 9.0 --> 0.0   \n",
       "5            fbsId:  1.0 --> 2.0 --> 1.0   \n",
       "6  carrierId:  784.0 --> 796.0 --> 784.0   \n",
       "\n",
       "                                              origin  \n",
       "0  BXP_6: [2022-12-10 18:45:25.591580320] (+0.000...  \n",
       "1  BXP_6: [2022-12-10 18:45:23.760677490] (+0.010...  \n",
       "2  BXP_6: [2022-12-10 18:45:23.746493610] (+0.000...  \n",
       "3  BXP_6: [2022-12-10 18:45:23.746474840] (+0.001...  \n",
       "4  BXP_6: [2022-12-10 18:45:17.598833690] (+0.000...  \n",
       "5  BXP_6: [2022-12-10 18:45:17.086798670] (+0.000...  \n",
       "6  BXP_6: [2022-12-10 18:45:17.086798670] (+0.000...  "
      ]
     },
     "execution_count": 7,
     "metadata": {},
     "output_type": "execute_result"
    }
   ],
   "source": [
    "text_analysis_model.file_container_model.batch_insight_model.result.loc[1, 'resOutlier']"
   ]
  },
  {
   "cell_type": "code",
   "execution_count": 4,
   "id": "editorial-nelson",
   "metadata": {},
   "outputs": [
    {
     "data": {
      "text/html": [
       "<div>\n",
       "<style scoped>\n",
       "    .dataframe tbody tr th:only-of-type {\n",
       "        vertical-align: middle;\n",
       "    }\n",
       "\n",
       "    .dataframe tbody tr th {\n",
       "        vertical-align: top;\n",
       "    }\n",
       "\n",
       "    .dataframe thead th {\n",
       "        text-align: right;\n",
       "    }\n",
       "</style>\n",
       "<table border=\"1\" class=\"dataframe\">\n",
       "  <thead>\n",
       "    <tr style=\"text-align: right;\">\n",
       "      <th></th>\n",
       "      <th>txAtt_AbnormalUpPulse</th>\n",
       "      <th>avgIMpa0_AbnormalUpPulse</th>\n",
       "      <th>10_AbnormalUpPulse</th>\n",
       "      <th>fbsId_AbnormalUpPulse</th>\n",
       "      <th>carrierId_AbnormalUpPulse</th>\n",
       "      <th>list_AbnormalUpPulse</th>\n",
       "      <th>txlSrv.cc_AbnormalUpPulse</th>\n",
       "      <th>label</th>\n",
       "    </tr>\n",
       "  </thead>\n",
       "  <tbody>\n",
       "    <tr>\n",
       "      <th>0</th>\n",
       "      <td>1</td>\n",
       "      <td>1</td>\n",
       "      <td>1</td>\n",
       "      <td>0.0</td>\n",
       "      <td>0.0</td>\n",
       "      <td>0.0</td>\n",
       "      <td>0.0</td>\n",
       "      <td>0</td>\n",
       "    </tr>\n",
       "    <tr>\n",
       "      <th>1</th>\n",
       "      <td>1</td>\n",
       "      <td>1</td>\n",
       "      <td>1</td>\n",
       "      <td>1.0</td>\n",
       "      <td>1.0</td>\n",
       "      <td>1.0</td>\n",
       "      <td>1.0</td>\n",
       "      <td>1</td>\n",
       "    </tr>\n",
       "  </tbody>\n",
       "</table>\n",
       "</div>"
      ],
      "text/plain": [
       "   txAtt_AbnormalUpPulse  avgIMpa0_AbnormalUpPulse  10_AbnormalUpPulse  \\\n",
       "0                      1                         1                   1   \n",
       "1                      1                         1                   1   \n",
       "\n",
       "   fbsId_AbnormalUpPulse  carrierId_AbnormalUpPulse  list_AbnormalUpPulse  \\\n",
       "0                    0.0                        0.0                   0.0   \n",
       "1                    1.0                        1.0                   1.0   \n",
       "\n",
       "   txlSrv.cc_AbnormalUpPulse  label  \n",
       "0                        0.0      0  \n",
       "1                        1.0      1  "
      ]
     },
     "execution_count": 4,
     "metadata": {},
     "output_type": "execute_result"
    }
   ],
   "source": [
    "text_analysis_model.file_container_model.batch_insight_model.samples"
   ]
  },
  {
   "cell_type": "code",
   "execution_count": null,
   "id": "novel-fiber",
   "metadata": {},
   "outputs": [],
   "source": [
    "tmp = text_analysis_model.file_container_model.batch_insight_model.result\n",
    "res = tmp.loc[(tmp['fileName'] == 'E55H060478_LE_JLADANSUKAHATI_CBX_PL_BXP_6_telog.log'), :].reset_index(drop=True).loc[0, :]\n",
    "dict(res)"
   ]
  },
  {
   "cell_type": "code",
   "execution_count": null,
   "id": "1f53c9e0",
   "metadata": {
    "scrolled": true
   },
   "outputs": [],
   "source": [
    "from sklearn.cluster import KMeans\n",
    "import matplotlib.pyplot as plt\n",
    "import pandas as pd\n",
    "\n",
    "X = pd.DataFrame([[0,22],[0,22],[0,22],[0,255],[0,255],[0,255]])\n",
    "cost =[]\n",
    "for i in range(1, 4):\n",
    "    KM = KMeans(n_clusters = i, max_iter = 500)\n",
    "    KM.fit(X)\n",
    "\n",
    "    # calculates squared error\n",
    "    # for the clustered points\n",
    "    cost.append(KM.inertia_)\n",
    "    \n",
    "# plot the cost against K values\n",
    "plt.plot(range(1, 4), cost, color ='g', linewidth ='3')\n",
    "plt.xlabel(\"Value of K\")\n",
    "plt.ylabel(\"Squared Error (Cost)\")\n",
    "plt.show() # clear the plot"
   ]
  },
  {
   "cell_type": "code",
   "execution_count": 14,
   "id": "3f1f98a1",
   "metadata": {},
   "outputs": [
    {
     "data": {
      "text/plain": [
       "'/a/b/c'"
      ]
     },
     "execution_count": 14,
     "metadata": {},
     "output_type": "execute_result"
    }
   ],
   "source": [
    "str1 = '/a/b/c/d'\n",
    "'/'.join(str1.split('/')[0:-1])"
   ]
  },
  {
   "cell_type": "code",
   "execution_count": 2,
   "id": "killing-greensboro",
   "metadata": {},
   "outputs": [],
   "source": [
    "a = []\n",
    "a.extend(range(1,5))"
   ]
  },
  {
   "cell_type": "code",
   "execution_count": 4,
   "id": "beautiful-singing",
   "metadata": {},
   "outputs": [
    {
     "data": {
      "text/plain": [
       "[1, 2, 3, 5]"
      ]
     },
     "execution_count": 4,
     "metadata": {},
     "output_type": "execute_result"
    }
   ],
   "source": [
    "a = sorted(set([3,2,1,1,5]))\n",
    "a"
   ]
  },
  {
   "cell_type": "code",
   "execution_count": null,
   "id": "alleged-beaver",
   "metadata": {},
   "outputs": [],
   "source": []
  }
 ],
 "metadata": {
  "kernelspec": {
   "display_name": "Python 3",
   "language": "python",
   "name": "python3"
  },
  "language_info": {
   "codemirror_mode": {
    "name": "ipython",
    "version": 3
   },
   "file_extension": ".py",
   "mimetype": "text/x-python",
   "name": "python",
   "nbconvert_exporter": "python",
   "pygments_lexer": "ipython3",
   "version": "3.8.8"
  }
 },
 "nbformat": 4,
 "nbformat_minor": 5
}
