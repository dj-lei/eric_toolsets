{
 "cells": [
  {
   "cell_type": "code",
   "execution_count": null,
   "id": "87a49290-7aa0-41d4-b7d4-9f9eadf2784a",
   "metadata": {
    "tags": []
   },
   "outputs": [],
   "source": [
    "import numpy as np\n",
    "import pandas as pd\n",
    "\n",
    "y = [50 - i for i in range(50)]\n",
    "y += [0 if i % 2 == 0 else 150 for i in range(50)]\n",
    "# nosie = np.random.normal(0,10,len(y))\n",
    "# y = [ y[i] + nosie[i] for i in range (len(y))]  \n",
    "data = pd.DataFrame(y, columns=['y'])\n",
    "\n",
    "z = [250 if i % 2 == 0 else 170 for i in range(50)]\n",
    "z += [200 if i % 2 == 0 else 150 for i in range(50)]\n",
    "data['z'] = pd.Series(z)\n",
    "# data.loc[0:50, 'y'] = 255\n",
    "# data.loc[51:53, 'y'] = 22\n",
    "data.loc[50:100, 'y'] = 0\n",
    "# data.loc[52:100, 'z'] = 1\n",
    "data = data.reset_index()\n",
    "data = data.rename(columns={'index':'x'})"
   ]
  },
  {
   "cell_type": "code",
   "execution_count": null,
   "id": "e559df49-a936-499e-8bd3-50aea82ce9c3",
   "metadata": {
    "tags": []
   },
   "outputs": [],
   "source": [
    "import matplotlib.pyplot as plt  # for display purposes\n",
    "import ruptures as rpt  # our package\n",
    "\n",
    "signal = np.array([[i] for i in data['y']])\n",
    "algo = rpt.Dynp(model=\"l2\", min_size=1, jump=1).fit(signal)\n",
    "result = algo.predict(n_bkps=1)\n",
    "print(result)"
   ]
  },
  {
   "cell_type": "code",
   "execution_count": null,
   "id": "84eb4860-b858-46d8-9a01-a28c656666a6",
   "metadata": {
    "tags": []
   },
   "outputs": [],
   "source": [
    "if result[0] != 1:\n",
    "    sub_data = data.loc[result[0]-1:result[1], :]\n",
    "else:\n",
    "    sub_data = data.loc[result[0]:result[1], :]\n",
    "\n",
    "_type = 'Normal'\n",
    "if (result[0:2] == [1,2]) & (len(data) < 7):\n",
    "    if sub_data['y'].values[0] < sub_data['y'].values[1]:\n",
    "        _type = 'AbnormalUp'\n",
    "    elif sub_data['y'].values[0] > sub_data['y'].values[1]:\n",
    "        _type = 'AbnormalDown'\n",
    "else:\n",
    "    upper_boundary = sub_data['y'].values[0]\n",
    "    lower_boundary = sub_data['y'].values[-1]\n",
    "    points = []\n",
    "    for v in sub_data['y'].values[1:-1]:\n",
    "        if (v > upper_boundary) & (v >= lower_boundary):\n",
    "            if 0.6 * (v - upper_boundary) + upper_boundary < lower_boundary:\n",
    "                points.append('AbnormalUp')\n",
    "            else:\n",
    "                points.append('AbnormalUpPulse')\n",
    "            continue\n",
    "\n",
    "        if (v < upper_boundary) & (v <= lower_boundary):\n",
    "            if 0.4 * (upper_boundary - v) + v > lower_boundary:\n",
    "                points.append('AbnormalDown')\n",
    "            else:\n",
    "                points.append('AbnormalDownPulse')\n",
    "            continue\n",
    "\n",
    "        if (v > upper_boundary) & (v <= lower_boundary):\n",
    "            points.append('AbnormalUp')\n",
    "            continue\n",
    "\n",
    "        if (v < upper_boundary) & (v >= lower_boundary):\n",
    "            points.append('AbnormalDown')\n",
    "            continue\n",
    "\n",
    "    for point in points:\n",
    "        if 'Pulse' in point:\n",
    "            _type = point\n",
    "            break\n",
    "        elif 'Abnormal' in point:\n",
    "            _type = point\n",
    "_type"
   ]
  },
  {
   "cell_type": "code",
   "execution_count": null,
   "id": "5dc46c78-bef3-4501-8f46-de64721e186f",
   "metadata": {
    "tags": []
   },
   "outputs": [],
   "source": [
    "rpt.display(signal, result, result)\n",
    "plt.show()"
   ]
  },
  {
   "cell_type": "code",
   "execution_count": null,
   "id": "afb461a2-c091-4757-9df6-2ef2c57d6e0f",
   "metadata": {
    "tags": []
   },
   "outputs": [],
   "source": [
    "signal = np.array([[y,z] for y,z in data[['y', 'z']].values])\n",
    "algo = rpt.Dynp(model=\"l2\", min_size=1, jump=1).fit(signal)\n",
    "result = algo.predict(n_bkps=2)\n",
    "print(result)"
   ]
  },
  {
   "cell_type": "code",
   "execution_count": null,
   "id": "73b858f6-5d65-432e-8bc9-27cd579dfc4d",
   "metadata": {
    "tags": []
   },
   "outputs": [],
   "source": [
    "rpt.display(signal, result, result)\n",
    "plt.show()"
   ]
  },
  {
   "cell_type": "code",
   "execution_count": null,
   "id": "20e8611a-7ada-4394-b93c-08a5c0b8c4de",
   "metadata": {
    "tags": []
   },
   "outputs": [],
   "source": [
    "a = [1,2,3]\n",
    "a[0:10]"
   ]
  },
  {
   "cell_type": "code",
   "execution_count": null,
   "id": "a25b85af-86d5-45ab-accd-8134c55d4a44",
   "metadata": {},
   "outputs": [],
   "source": [
    "import statsmodels.formula.api as smapi\n",
    "from statsmodels.tsa.seasonal import seasonal_decompose\n",
    "from dateutil.parser import parse\n",
    "\n",
    "import matplotlib as mpl\n",
    "import matplotlib.pyplot as plt   # data visualization\n",
    "import seaborn as sns             # statistical data visualization\n",
    "\n",
    "\n",
    "# Multiplicative Decomposition \n",
    "multiplicative_decomposition = seasonal_decompose(data['y'], model='multiplicative', period=30)\n",
    "\n",
    "# Additive Decomposition\n",
    "additive_decomposition = seasonal_decompose(data['y'], model='additive', period=30)\n",
    "\n",
    "# Plot\n",
    "plt.rcParams.update({'figure.figsize': (16,12)})\n",
    "multiplicative_decomposition.plot().suptitle('Multiplicative Decomposition', fontsize=16)\n",
    "plt.tight_layout(rect=[0, 0.03, 1, 0.95])\n",
    "\n",
    "additive_decomposition.plot().suptitle('Additive Decomposition', fontsize=16)\n",
    "plt.tight_layout(rect=[0, 0.03, 1, 0.95])\n",
    "\n",
    "plt.show()"
   ]
  },
  {
   "cell_type": "code",
   "execution_count": null,
   "id": "bea2bde2-d9a2-4b83-b7f0-0b10599bb5ba",
   "metadata": {},
   "outputs": [],
   "source": [
    "self.result = False\n",
    "if ('packname' in self.text_analysis_model.data['PackageName'].res_key_value) & ('errorname' in self.text_analysis_model.data['ErrorName'].res_key_value):\n",
    "    for item in self.text_analysis_model.data['ErrorName'].res_key_value['errorname']['timestamp']:\n",
    "        if self.text_analysis_model.data['PackageName'].res_key_value['packname']['timestamp'][0] > item:\n",
    "            self.result = True        \n",
    "else:\n",
    "    self.result = 'unknow'"
   ]
  },
  {
   "cell_type": "code",
   "execution_count": null,
   "id": "e10b15da-c4f0-4137-b17d-ef5c4977b54f",
   "metadata": {},
   "outputs": [],
   "source": [
    "table = self.text_analysis_model.batch_statistic_model.table\n",
    "tt = table.loc[(table['BeforeError'] == True) & (table['AfterError'] == False),:]\n",
    "self.result = len(tt) / len(table)"
   ]
  },
  {
   "cell_type": "code",
   "execution_count": null,
   "id": "53981a11-2e18-403d-b6f1-f9506db0d089",
   "metadata": {},
   "outputs": [],
   "source": [
    "self.text_analysis_model.batch_statistic_model.table.to_csv('D:\\\\projects\\\\ericsson_flow\\\\test.csv', index=False)"
   ]
  },
  {
   "cell_type": "code",
   "execution_count": null,
   "id": "337ca402-ef3a-42fb-a02a-348a21c13b1f",
   "metadata": {},
   "outputs": [],
   "source": [
    "self.result = False\n",
    "high_count = 0\n",
    "low_count = 0\n",
    "for v in self.text_analysis_model.data['search_branchI'].res_key_value['txAtt']['value']:\n",
    "    if v >= 255:\n",
    "        high_count = high_count + 1\n",
    "        \n",
    "    if v <= 50:\n",
    "        low_count = low_count + 1\n",
    "if (high_count > 3) & (low_count > 3):\n",
    "    self.result = True"
   ]
  },
  {
   "cell_type": "code",
   "execution_count": null,
   "id": "0d773ea3-fdaf-40a3-af9b-bcd8ac3f3f0d",
   "metadata": {},
   "outputs": [],
   "source": [
    "self.result = False\n",
    "if len(self.text_analysis_model.data['Deframer_interrupt_happened'].res_lines) > 0:\n",
    "    self.result = True"
   ]
  },
  {
   "cell_type": "code",
   "execution_count": null,
   "id": "3f5be493-6edc-4217-bf11-312c97753c29",
   "metadata": {},
   "outputs": [],
   "source": [
    "self.result = False\n",
    "if (self.text_analysis_model.data['branchI_txatt_bas'].result == True) | (self.text_analysis_model.data['branchJ_txatt_bas'].result == True) | (self.text_analysis_model.data['branchK_txatt_bas'].result == True) | (self.text_analysis_model.data['branchL_txatt_bas'].result == True):\n",
    "    self.result = True"
   ]
  },
  {
   "cell_type": "code",
   "execution_count": null,
   "id": "0cd36f67-7ceb-4b73-a7e0-81ab6f0190f6",
   "metadata": {},
   "outputs": [],
   "source": [
    "self.result = False\n",
    "if (self.text_analysis_model.data['branchI_txatt_bas'].result == True) & (self.text_analysis_model.data['branchJ_txatt_bas'].result == True) & (self.text_analysis_model.data['branchK_txatt_bas'].result == True) & (self.text_analysis_model.data['branchL_txatt_bas'].result == True):\n",
    "    self.result = True"
   ]
  },
  {
   "cell_type": "code",
   "execution_count": null,
   "id": "2e15f085-259f-4074-bd31-ab7a8720e801",
   "metadata": {
    "tags": []
   },
   "outputs": [],
   "source": [
    "import socketio\n",
    "sio = socketio.AsyncClient()\n",
    "await sio.connect('http://127.0.0.1:8000', namespaces=['/TextAnalysis/FileContainer'])"
   ]
  },
  {
   "cell_type": "code",
   "execution_count": null,
   "id": "f03bc044-3bbb-4582-b6d7-0f423acc63b9",
   "metadata": {
    "tags": []
   },
   "outputs": [],
   "source": [
    "await sio.emit('new_file', ['D:\\\\Projects\\\\ericsson_flow\\\\new_files\\\\E55G948878_LE_SARONGGE_BXP_6_telog.log'], namespace='/TextAnalysis/FileContainer')"
   ]
  },
  {
   "cell_type": "code",
   "execution_count": null,
   "id": "b29f62f9-891f-4641-aa00-ad076916d7d2",
   "metadata": {
    "tags": []
   },
   "outputs": [],
   "source": [
    "await sio.emit('load_config', 'D:\\\\projects\\\\ericsson_flow\\\\new_files\\\\config1.txt', namespace='/TextAnalysis/FileContainer')"
   ]
  },
  {
   "cell_type": "code",
   "execution_count": null,
   "id": "67fb27fd-377f-4b2f-a56d-b7f99749cbd1",
   "metadata": {
    "tags": []
   },
   "outputs": [],
   "source": [
    "# await sio.disconnect\n",
    "sio = socketio.AsyncClient(reconnection=False)\n",
    "await sio.connect('http://127.0.0.1:8000', namespaces=['/TextAnalysis/FileContainer', '/TextAnalysis/FileContainer/E55G948878_LE_SARONGGE_BXP_6_telog.log/TextFileFunction/SearchFunction/search_branchA'])"
   ]
  },
  {
   "cell_type": "code",
   "execution_count": null,
   "id": "e00b7ebe-2c69-452b-92a6-b819d607f3fa",
   "metadata": {
    "tags": []
   },
   "outputs": [],
   "source": [
    "def printm(model):\n",
    "    print(model)\n",
    "\n",
    "await sio.emit('model', namespace='/TextAnalysis/FileContainer/E55G948878_LE_SARONGGE_BXP_6_telog.log/TextFileFunction/SearchFunction/search_branchA', callback=printm)"
   ]
  },
  {
   "cell_type": "code",
   "execution_count": null,
   "id": "2a1768f2-5582-488b-882b-3c5bad989fde",
   "metadata": {
    "tags": []
   },
   "outputs": [],
   "source": [
    "class A(object):\n",
    "    def __init__(self):\n",
    "        self.a = 1\n",
    "        self.b = 2\n",
    "        \n",
    "    def __getattribute__(self, obj):\n",
    "        print(obj)\n",
    "        return object.__getattribute__(self, obj)\n",
    "    \n",
    "c = A()\n",
    "c.a * c.b"
   ]
  },
  {
   "cell_type": "code",
   "execution_count": null,
   "id": "3b68ae71-a31a-43eb-b5c8-5858319c55e5",
   "metadata": {
    "tags": []
   },
   "outputs": [],
   "source": [
    "# from asyncio import get_event_loop\n",
    "from text_analysis import *\n",
    "\n",
    "# loop = get_event_loop()\n",
    "# loop.run_until_complete(TextAnalysisModel('parallel'))\n",
    "\n",
    "web.run_app(app, host=\"127.0.0.1\", port=8000)"
   ]
  },
  {
   "cell_type": "code",
   "execution_count": null,
   "id": "d7bed893-12aa-40c5-8aa0-685e15d37007",
   "metadata": {
    "tags": []
   },
   "outputs": [],
   "source": [
    "from dateutil.parser import parse as dp\n",
    "\n",
    "str(dp('221210-12:40:51', yearfirst=True))"
   ]
  },
  {
   "cell_type": "code",
   "execution_count": null,
   "id": "c843578f-c129-4057-abfe-4e4633cc13e8",
   "metadata": {
    "tags": []
   },
   "outputs": [],
   "source": [
    "if '2022-12-11 01:12:21.105110' > '2022-12-11 01:12:22':\n",
    "    print(True)"
   ]
  },
  {
   "cell_type": "code",
   "execution_count": null,
   "id": "270d155b-32e7-4219-8d01-047fc736d012",
   "metadata": {},
   "outputs": [],
   "source": [
    "import re\n",
    "import pandas as pd\n",
    "from parse import parse\n",
    "\n",
    "str1 = '230228-16:19:06+0100 172.21.11.66 23.0b MSRBS_NODE_MODEL_22.Q2_566.28125.116_3317 stopfile=/tmp/11737'\n",
    "str2 = 'BXP_7:     769,dl-1  disabled        false    essFdd150_Id2       B     dl    2162500         BandI      0,       0    469            469     SETUP     SETUP'\n",
    "# exp_extract = '{}MSRBS_NODE_MODEL_{version}_{}'\n",
    "exp_extract = '{bxp}:{:s}{carrierId}{:s}{Enabled}{:s}{RealRelease}{:s}{carrierType}{:s}{rfPort}{:s}dl{:s}{Frequency}{:s}{Band}{:s}{Arfcn_min}{:s}{Arfcn_max}{:s}{Power}{:s}{ReservedPower}{:s}{tr}{:s}{bdconf}'\n",
    "r_extract = parse(exp_extract, str2)\n",
    "print(r_extract.named)\n",
    "# print(r_extract)"
   ]
  },
  {
   "cell_type": "code",
   "execution_count": null,
   "id": "97b1fc83-d735-400b-a844-10064f2d60cf",
   "metadata": {
    "tags": []
   },
   "outputs": [],
   "source": [
    "data = {'bxp': {'search_alias': 'dl', 'name': 'bxp', 'type': 'str', 'global_index': [10, 11, 14, 15, 42, 43, 46, 47, 74, 75, 78, 79, 106, 107, 110, 111, 138, 139, 142, 143, 170, 171, 174, 175], 'search_index': [0, 1, 2, 3, 4, 5, 6, 7, 8, 9, 10, 11, 12, 13, 14, 15, 16, 17, 18, 19, 20, 21, 22, 23], 'value': ['BXP_2', 'BXP_2', 'BXP_2', 'BXP_2', 'BXP_3', 'BXP_3', 'BXP_3', 'BXP_3', 'BXP_4', 'BXP_4', 'BXP_4', 'BXP_4', 'BXP_5', 'BXP_5', 'BXP_5', 'BXP_5', 'BXP_6', 'BXP_6', 'BXP_6', 'BXP_6', 'BXP_7', 'BXP_7', 'BXP_7', 'BXP_7'], 'timestamp': ['2023-03-02 13:46:30.066307', '2023-03-02 13:46:30.066307', '2023-03-02 13:46:30.066307', '2023-03-02 13:46:30.067316', '2023-03-02 13:46:30.067316', '2023-03-02 13:46:30.067316', '2023-03-02 13:46:30.067316', '2023-03-02 13:46:30.067316', '2023-03-02 13:46:30.067316', '2023-03-02 13:46:30.067316', '2023-03-02 13:46:30.068301', '2023-03-02 13:46:30.068301', '2023-03-02 13:46:30.068301', '2023-03-02 13:46:30.068301', '2023-03-02 13:46:30.068301', '2023-03-02 13:46:30.068301', '2023-03-02 13:46:30.068301', '2023-03-02 13:46:30.069292', '2023-03-02 13:46:30.069292', '2023-03-02 13:46:30.069292', '2023-03-02 13:46:30.069292', '2023-03-02 13:46:30.069292', '2023-03-02 13:46:30.069292', '2023-03-02 13:46:30.069292']}, 'carrierId': {'search_alias': 'dl', 'name': 'carrierId', 'type': 'str', 'global_index': [10, 11, 14, 15, 42, 43, 46, 47, 74, 75, 78, 79, 106, 107, 110, 111, 138, 139, 142, 143, 170, 171, 174, 175], 'search_index': [0, 1, 2, 3, 4, 5, 6, 7, 8, 9, 10, 11, 12, 13, 14, 15, 16, 17, 18, 19, 20, 21, 22, 23], 'value': ['772,dl-4', '773,dl-5', '768,dl-0', '769,dl-1', '772,dl-4', '773,dl-5', '768,dl-0', '769,dl-1', '772,dl-4', '773,dl-5', '768,dl-0', '769,dl-1', '772,dl-4', '773,dl-5', '768,dl-0', '769,dl-1', '768,dl-0', '769,dl-1', '772,dl-4', '773,dl-5', '772,dl-4', '773,dl-5', '768,dl-0', '769,dl-1'], 'timestamp': ['2023-03-02 13:46:30.066307', '2023-03-02 13:46:30.066307', '2023-03-02 13:46:30.066307', '2023-03-02 13:46:30.067316', '2023-03-02 13:46:30.067316', '2023-03-02 13:46:30.067316', '2023-03-02 13:46:30.067316', '2023-03-02 13:46:30.067316', '2023-03-02 13:46:30.067316', '2023-03-02 13:46:30.067316', '2023-03-02 13:46:30.068301', '2023-03-02 13:46:30.068301', '2023-03-02 13:46:30.068301', '2023-03-02 13:46:30.068301', '2023-03-02 13:46:30.068301', '2023-03-02 13:46:30.068301', '2023-03-02 13:46:30.068301', '2023-03-02 13:46:30.069292', '2023-03-02 13:46:30.069292', '2023-03-02 13:46:30.069292', '2023-03-02 13:46:30.069292', '2023-03-02 13:46:30.069292', '2023-03-02 13:46:30.069292', '2023-03-02 13:46:30.069292']}, 'Enabled': {'search_alias': 'dl', 'name': 'Enabled', 'type': 'str', 'global_index': [10, 11, 14, 15, 42, 43, 46, 47, 74, 75, 78, 79, 106, 107, 110, 111, 138, 139, 142, 143, 170, 171, 174, 175], 'search_index': [0, 1, 2, 3, 4, 5, 6, 7, 8, 9, 10, 11, 12, 13, 14, 15, 16, 17, 18, 19, 20, 21, 22, 23], 'value': ['enabled', 'enabled', 'enabled', 'enabled', 'enabled', 'enabled', 'enabled', 'enabled', 'enabled', 'enabled', 'enabled', 'enabled', 'enabled', 'enabled', 'enabled', 'enabled', 'enabled', 'enabled', 'enabled', 'enabled', 'enabled', 'enabled', 'enabled', 'enabled'], 'timestamp': ['2023-03-02 13:46:30.066307', '2023-03-02 13:46:30.066307', '2023-03-02 13:46:30.066307', '2023-03-02 13:46:30.067316', '2023-03-02 13:46:30.067316', '2023-03-02 13:46:30.067316', '2023-03-02 13:46:30.067316', '2023-03-02 13:46:30.067316', '2023-03-02 13:46:30.067316', '2023-03-02 13:46:30.067316', '2023-03-02 13:46:30.068301', '2023-03-02 13:46:30.068301', '2023-03-02 13:46:30.068301', '2023-03-02 13:46:30.068301', '2023-03-02 13:46:30.068301', '2023-03-02 13:46:30.068301', '2023-03-02 13:46:30.068301', '2023-03-02 13:46:30.069292', '2023-03-02 13:46:30.069292', '2023-03-02 13:46:30.069292', '2023-03-02 13:46:30.069292', '2023-03-02 13:46:30.069292', '2023-03-02 13:46:30.069292', '2023-03-02 13:46:30.069292']}, 'RealRelease': {'search_alias': 'dl', 'name': 'RealRelease', 'type': 'str', 'global_index': [10, 11, 14, 15, 42, 43, 46, 47, 74, 75, 78, 79, 106, 107, 110, 111, 138, 139, 142, 143, 170, 171, 174, 175], 'search_index': [0, 1, 2, 3, 4, 5, 6, 7, 8, 9, 10, 11, 12, 13, 14, 15, 16, 17, 18, 19, 20, 21, 22, 23], 'value': ['false', 'false', 'false', 'false', 'false', 'false', 'false', 'false', 'false', 'false', 'false', 'false', 'false', 'false', 'false', 'false', 'false', 'false', 'false', 'false', 'false', 'false', 'false', 'false'], 'timestamp': ['2023-03-02 13:46:30.066307', '2023-03-02 13:46:30.066307', '2023-03-02 13:46:30.066307', '2023-03-02 13:46:30.067316', '2023-03-02 13:46:30.067316', '2023-03-02 13:46:30.067316', '2023-03-02 13:46:30.067316', '2023-03-02 13:46:30.067316', '2023-03-02 13:46:30.067316', '2023-03-02 13:46:30.067316', '2023-03-02 13:46:30.068301', '2023-03-02 13:46:30.068301', '2023-03-02 13:46:30.068301', '2023-03-02 13:46:30.068301', '2023-03-02 13:46:30.068301', '2023-03-02 13:46:30.068301', '2023-03-02 13:46:30.068301', '2023-03-02 13:46:30.069292', '2023-03-02 13:46:30.069292', '2023-03-02 13:46:30.069292', '2023-03-02 13:46:30.069292', '2023-03-02 13:46:30.069292', '2023-03-02 13:46:30.069292', '2023-03-02 13:46:30.069292']}, 'carrierType': {'search_alias': 'dl', 'name': 'carrierType', 'type': 'str', 'global_index': [10, 11, 14, 15, 42, 43, 46, 47, 74, 75, 78, 79, 106, 107, 110, 111, 138, 139, 142, 143, 170, 171, 174, 175], 'search_index': [0, 1, 2, 3, 4, 5, 6, 7, 8, 9, 10, 11, 12, 13, 14, 15, 16, 17, 18, 19, 20, 21, 22, 23], 'value': ['essFdd150_Id2', 'essFdd150_Id2', 'lte150_15360', 'lte150_15360', 'essFdd150_Id2', 'essFdd150_Id2', 'lte150_15360', 'lte150_15360', 'essFdd150_Id2', 'essFdd150_Id2', 'lte150_15360', 'lte150_15360', 'essFdd150_Id2', 'essFdd150_Id2', 'lte150_15360', 'lte150_15360', 'essFdd150_Id2', 'essFdd150_Id2', 'lte150_15360', 'lte150_15360', 'essFdd150_Id2', 'essFdd150_Id2', 'lte150_15360', 'lte150_15360'], 'timestamp': ['2023-03-02 13:46:30.066307', '2023-03-02 13:46:30.066307', '2023-03-02 13:46:30.066307', '2023-03-02 13:46:30.067316', '2023-03-02 13:46:30.067316', '2023-03-02 13:46:30.067316', '2023-03-02 13:46:30.067316', '2023-03-02 13:46:30.067316', '2023-03-02 13:46:30.067316', '2023-03-02 13:46:30.067316', '2023-03-02 13:46:30.068301', '2023-03-02 13:46:30.068301', '2023-03-02 13:46:30.068301', '2023-03-02 13:46:30.068301', '2023-03-02 13:46:30.068301', '2023-03-02 13:46:30.068301', '2023-03-02 13:46:30.068301', '2023-03-02 13:46:30.069292', '2023-03-02 13:46:30.069292', '2023-03-02 13:46:30.069292', '2023-03-02 13:46:30.069292', '2023-03-02 13:46:30.069292', '2023-03-02 13:46:30.069292', '2023-03-02 13:46:30.069292']}, 'rfPort': {'search_alias': 'dl', 'name': 'rfPort', 'type': 'str', 'global_index': [10, 11, 14, 15, 42, 43, 46, 47, 74, 75, 78, 79, 106, 107, 110, 111, 138, 139, 142, 143, 170, 171, 174, 175], 'search_index': [0, 1, 2, 3, 4, 5, 6, 7, 8, 9, 10, 11, 12, 13, 14, 15, 16, 17, 18, 19, 20, 21, 22, 23], 'value': ['C', 'D', 'A', 'B', 'C', 'D', 'A', 'B', 'C', 'D', 'A', 'B', 'C', 'D', 'A', 'B', 'C', 'D', 'A', 'B', 'C', 'D', 'A', 'B'], 'timestamp': ['2023-03-02 13:46:30.066307', '2023-03-02 13:46:30.066307', '2023-03-02 13:46:30.066307', '2023-03-02 13:46:30.067316', '2023-03-02 13:46:30.067316', '2023-03-02 13:46:30.067316', '2023-03-02 13:46:30.067316', '2023-03-02 13:46:30.067316', '2023-03-02 13:46:30.067316', '2023-03-02 13:46:30.067316', '2023-03-02 13:46:30.068301', '2023-03-02 13:46:30.068301', '2023-03-02 13:46:30.068301', '2023-03-02 13:46:30.068301', '2023-03-02 13:46:30.068301', '2023-03-02 13:46:30.068301', '2023-03-02 13:46:30.068301', '2023-03-02 13:46:30.069292', '2023-03-02 13:46:30.069292', '2023-03-02 13:46:30.069292', '2023-03-02 13:46:30.069292', '2023-03-02 13:46:30.069292', '2023-03-02 13:46:30.069292', '2023-03-02 13:46:30.069292']}, 'Frequency': {'search_alias': 'dl', 'name': 'Frequency', 'type': 'str', 'global_index': [10, 11, 14, 15, 42, 43, 46, 47, 74, 75, 78, 79, 106, 107, 110, 111, 138, 139, 142, 143, 170, 171, 174, 175], 'search_index': [0, 1, 2, 3, 4, 5, 6, 7, 8, 9, 10, 11, 12, 13, 14, 15, 16, 17, 18, 19, 20, 21, 22, 23], 'value': ['2162500', '2162500', '1832400', '1832400', '2162500', '2162500', '1832400', '1832400', '2162500', '2162500', '1832400', '1832400', '2162500', '2162500', '1832400', '1832400', '2162500', '2162500', '1832400', '1832400', '2162500', '2162500', '1832400', '1832400'], 'timestamp': ['2023-03-02 13:46:30.066307', '2023-03-02 13:46:30.066307', '2023-03-02 13:46:30.066307', '2023-03-02 13:46:30.067316', '2023-03-02 13:46:30.067316', '2023-03-02 13:46:30.067316', '2023-03-02 13:46:30.067316', '2023-03-02 13:46:30.067316', '2023-03-02 13:46:30.067316', '2023-03-02 13:46:30.067316', '2023-03-02 13:46:30.068301', '2023-03-02 13:46:30.068301', '2023-03-02 13:46:30.068301', '2023-03-02 13:46:30.068301', '2023-03-02 13:46:30.068301', '2023-03-02 13:46:30.068301', '2023-03-02 13:46:30.068301', '2023-03-02 13:46:30.069292', '2023-03-02 13:46:30.069292', '2023-03-02 13:46:30.069292', '2023-03-02 13:46:30.069292', '2023-03-02 13:46:30.069292', '2023-03-02 13:46:30.069292', '2023-03-02 13:46:30.069292']}, 'Band': {'search_alias': 'dl', 'name': 'Band', 'type': 'str', 'global_index': [10, 11, 14, 15, 42, 43, 46, 47, 74, 75, 78, 79, 106, 107, 110, 111, 138, 139, 142, 143, 170, 171, 174, 175], 'search_index': [0, 1, 2, 3, 4, 5, 6, 7, 8, 9, 10, 11, 12, 13, 14, 15, 16, 17, 18, 19, 20, 21, 22, 23], 'value': ['BandI', 'BandI', 'BandIII', 'BandIII', 'BandI', 'BandI', 'BandIII', 'BandIII', 'BandI', 'BandI', 'BandIII', 'BandIII', 'BandI', 'BandI', 'BandIII', 'BandIII', 'BandI', 'BandI', 'BandIII', 'BandIII', 'BandI', 'BandI', 'BandIII', 'BandIII'], 'timestamp': ['2023-03-02 13:46:30.066307', '2023-03-02 13:46:30.066307', '2023-03-02 13:46:30.066307', '2023-03-02 13:46:30.067316', '2023-03-02 13:46:30.067316', '2023-03-02 13:46:30.067316', '2023-03-02 13:46:30.067316', '2023-03-02 13:46:30.067316', '2023-03-02 13:46:30.067316', '2023-03-02 13:46:30.067316', '2023-03-02 13:46:30.068301', '2023-03-02 13:46:30.068301', '2023-03-02 13:46:30.068301', '2023-03-02 13:46:30.068301', '2023-03-02 13:46:30.068301', '2023-03-02 13:46:30.068301', '2023-03-02 13:46:30.068301', '2023-03-02 13:46:30.069292', '2023-03-02 13:46:30.069292', '2023-03-02 13:46:30.069292', '2023-03-02 13:46:30.069292', '2023-03-02 13:46:30.069292', '2023-03-02 13:46:30.069292', '2023-03-02 13:46:30.069292']}, 'Arfcn_min': {'search_alias': 'dl', 'name': 'Arfcn_min', 'type': 'str', 'global_index': [10, 11, 14, 15, 42, 43, 46, 47, 74, 75, 78, 79, 106, 107, 110, 111, 138, 139, 142, 143, 170, 171, 174, 175], 'search_index': [0, 1, 2, 3, 4, 5, 6, 7, 8, 9, 10, 11, 12, 13, 14, 15, 16, 17, 18, 19, 20, 21, 22, 23], 'value': ['0,', '0,', '0,', '0,', '0,', '0,', '0,', '0,', '0,', '0,', '0,', '0,', '0,', '0,', '0,', '0,', '0,', '0,', '0,', '0,', '0,', '0,', '0,', '0,'], 'timestamp': ['2023-03-02 13:46:30.066307', '2023-03-02 13:46:30.066307', '2023-03-02 13:46:30.066307', '2023-03-02 13:46:30.067316', '2023-03-02 13:46:30.067316', '2023-03-02 13:46:30.067316', '2023-03-02 13:46:30.067316', '2023-03-02 13:46:30.067316', '2023-03-02 13:46:30.067316', '2023-03-02 13:46:30.067316', '2023-03-02 13:46:30.068301', '2023-03-02 13:46:30.068301', '2023-03-02 13:46:30.068301', '2023-03-02 13:46:30.068301', '2023-03-02 13:46:30.068301', '2023-03-02 13:46:30.068301', '2023-03-02 13:46:30.068301', '2023-03-02 13:46:30.069292', '2023-03-02 13:46:30.069292', '2023-03-02 13:46:30.069292', '2023-03-02 13:46:30.069292', '2023-03-02 13:46:30.069292', '2023-03-02 13:46:30.069292', '2023-03-02 13:46:30.069292']}, 'Arfcn_max': {'search_alias': 'dl', 'name': 'Arfcn_max', 'type': 'str', 'global_index': [10, 11, 14, 15, 42, 43, 46, 47, 74, 75, 78, 79, 106, 107, 110, 111, 138, 139, 142, 143, 170, 171, 174, 175], 'search_index': [0, 1, 2, 3, 4, 5, 6, 7, 8, 9, 10, 11, 12, 13, 14, 15, 16, 17, 18, 19, 20, 21, 22, 23], 'value': ['0', '0', '0', '0', '0', '0', '0', '0', '0', '0', '0', '0', '0', '0', '0', '0', '0', '0', '0', '0', '0', '0', '0', '0'], 'timestamp': ['2023-03-02 13:46:30.066307', '2023-03-02 13:46:30.066307', '2023-03-02 13:46:30.066307', '2023-03-02 13:46:30.067316', '2023-03-02 13:46:30.067316', '2023-03-02 13:46:30.067316', '2023-03-02 13:46:30.067316', '2023-03-02 13:46:30.067316', '2023-03-02 13:46:30.067316', '2023-03-02 13:46:30.067316', '2023-03-02 13:46:30.068301', '2023-03-02 13:46:30.068301', '2023-03-02 13:46:30.068301', '2023-03-02 13:46:30.068301', '2023-03-02 13:46:30.068301', '2023-03-02 13:46:30.068301', '2023-03-02 13:46:30.068301', '2023-03-02 13:46:30.069292', '2023-03-02 13:46:30.069292', '2023-03-02 13:46:30.069292', '2023-03-02 13:46:30.069292', '2023-03-02 13:46:30.069292', '2023-03-02 13:46:30.069292', '2023-03-02 13:46:30.069292']}, 'Power': {'search_alias': 'dl', 'name': 'Power', 'type': 'str', 'global_index': [10, 11, 14, 15, 42, 43, 46, 47, 74, 75, 78, 79, 106, 107, 110, 111, 138, 139, 142, 143, 170, 171, 174, 175], 'search_index': [0, 1, 2, 3, 4, 5, 6, 7, 8, 9, 10, 11, 12, 13, 14, 15, 16, 17, 18, 19, 20, 21, 22, 23], 'value': ['470', '470', '472', '472', '448', '448', '448', '448', '448', '448', '448', '448', '448', '448', '448', '448', '470', '470', '472', '472', '470', '470', '472', '472'], 'timestamp': ['2023-03-02 13:46:30.066307', '2023-03-02 13:46:30.066307', '2023-03-02 13:46:30.066307', '2023-03-02 13:46:30.067316', '2023-03-02 13:46:30.067316', '2023-03-02 13:46:30.067316', '2023-03-02 13:46:30.067316', '2023-03-02 13:46:30.067316', '2023-03-02 13:46:30.067316', '2023-03-02 13:46:30.067316', '2023-03-02 13:46:30.068301', '2023-03-02 13:46:30.068301', '2023-03-02 13:46:30.068301', '2023-03-02 13:46:30.068301', '2023-03-02 13:46:30.068301', '2023-03-02 13:46:30.068301', '2023-03-02 13:46:30.068301', '2023-03-02 13:46:30.069292', '2023-03-02 13:46:30.069292', '2023-03-02 13:46:30.069292', '2023-03-02 13:46:30.069292', '2023-03-02 13:46:30.069292', '2023-03-02 13:46:30.069292', '2023-03-02 13:46:30.069292']}, 'ReservedPower': {'search_alias': 'dl', 'name': 'ReservedPower', 'type': 'str', 'global_index': [10, 11, 14, 15, 42, 43, 46, 47, 74, 75, 78, 79, 106, 107, 110, 111, 138, 139, 142, 143, 170, 171, 174, 175], 'search_index': [0, 1, 2, 3, 4, 5, 6, 7, 8, 9, 10, 11, 12, 13, 14, 15, 16, 17, 18, 19, 20, 21, 22, 23], 'value': ['470', '470', '472', '472', '448', '448', '448', '448', '448', '448', '448', '448', '448', '448', '448', '448', '470', '470', '472', '472', '470', '470', '472', '472'], 'timestamp': ['2023-03-02 13:46:30.066307', '2023-03-02 13:46:30.066307', '2023-03-02 13:46:30.066307', '2023-03-02 13:46:30.067316', '2023-03-02 13:46:30.067316', '2023-03-02 13:46:30.067316', '2023-03-02 13:46:30.067316', '2023-03-02 13:46:30.067316', '2023-03-02 13:46:30.067316', '2023-03-02 13:46:30.067316', '2023-03-02 13:46:30.068301', '2023-03-02 13:46:30.068301', '2023-03-02 13:46:30.068301', '2023-03-02 13:46:30.068301', '2023-03-02 13:46:30.068301', '2023-03-02 13:46:30.068301', '2023-03-02 13:46:30.068301', '2023-03-02 13:46:30.069292', '2023-03-02 13:46:30.069292', '2023-03-02 13:46:30.069292', '2023-03-02 13:46:30.069292', '2023-03-02 13:46:30.069292', '2023-03-02 13:46:30.069292', '2023-03-02 13:46:30.069292']}, 'tr': {'search_alias': 'dl', 'name': 'tr', 'type': 'str', 'global_index': [10, 11, 14, 15, 42, 43, 46, 47, 74, 75, 78, 79, 106, 107, 110, 111, 138, 139, 142, 143, 170, 171, 174, 175], 'search_index': [0, 1, 2, 3, 4, 5, 6, 7, 8, 9, 10, 11, 12, 13, 14, 15, 16, 17, 18, 19, 20, 21, 22, 23], 'value': ['SETUP', 'SETUP', 'SETUP', 'SETUP', 'SETUP', 'SETUP', 'SETUP', 'SETUP', 'SETUP', 'SETUP', 'SETUP', 'SETUP', 'SETUP', 'SETUP', 'SETUP', 'SETUP', 'SETUP', 'SETUP', 'SETUP', 'SETUP', 'SETUP', 'SETUP', 'SETUP', 'SETUP'], 'timestamp': ['2023-03-02 13:46:30.066307', '2023-03-02 13:46:30.066307', '2023-03-02 13:46:30.066307', '2023-03-02 13:46:30.067316', '2023-03-02 13:46:30.067316', '2023-03-02 13:46:30.067316', '2023-03-02 13:46:30.067316', '2023-03-02 13:46:30.067316', '2023-03-02 13:46:30.067316', '2023-03-02 13:46:30.067316', '2023-03-02 13:46:30.068301', '2023-03-02 13:46:30.068301', '2023-03-02 13:46:30.068301', '2023-03-02 13:46:30.068301', '2023-03-02 13:46:30.068301', '2023-03-02 13:46:30.068301', '2023-03-02 13:46:30.068301', '2023-03-02 13:46:30.069292', '2023-03-02 13:46:30.069292', '2023-03-02 13:46:30.069292', '2023-03-02 13:46:30.069292', '2023-03-02 13:46:30.069292', '2023-03-02 13:46:30.069292', '2023-03-02 13:46:30.069292']}, 'bdconf': {'search_alias': 'dl', 'name': 'bdconf', 'type': 'str', 'global_index': [10, 11, 14, 15, 42, 43, 46, 47, 74, 75, 78, 79, 106, 107, 110, 111, 138, 139, 142, 143, 170, 171, 174, 175], 'search_index': [0, 1, 2, 3, 4, 5, 6, 7, 8, 9, 10, 11, 12, 13, 14, 15, 16, 17, 18, 19, 20, 21, 22, 23], 'value': ['SETUP\\n\\nBXP_2:     773,dl-5   enabled        false    essFdd150_Id2       D     dl    2162500         BandI      0,       0    470            470     SETUP     SETUP\\n', 'SETUP\\n\\nBXP_2:     774,ul-6   enabled        false    essFdd150_Id2       C     ul    1972500         BandI      0,       0      0              0     SETUP     SETUP\\n', 'SETUP\\n\\nBXP_2:     769,dl-1   enabled        false     lte150_15360       B     dl    1832400       BandIII      0,       0    472            472     SETUP     SETUP\\n', 'SETUP\\n\\nBXP_2:     770,ul-2   enabled        false     lte150_15360       A     ul    1737400       BandIII      0,       0      0              0     SETUP     SETUP\\n', 'SETUP\\n\\nBXP_3:     773,dl-5   enabled        false    essFdd150_Id2       D     dl    2162500         BandI      0,       0    448            448     SETUP     SETUP\\n', 'SETUP\\n\\nBXP_3:     774,ul-6   enabled        false    essFdd150_Id2       C     ul    1972500         BandI      0,       0      0              0     SETUP     SETUP\\n', 'SETUP\\n\\nBXP_3:     769,dl-1   enabled        false     lte150_15360       B     dl    1832400       BandIII      0,       0    448            448     SETUP     SETUP\\n', 'SETUP\\n\\nBXP_3:     770,ul-2   enabled        false     lte150_15360       A     ul    1737400       BandIII      0,       0      0              0     SETUP     SETUP\\n', 'SETUP\\n\\nBXP_4:     773,dl-5   enabled        false    essFdd150_Id2       D     dl    2162500         BandI      0,       0    448            448     SETUP     SETUP\\n', 'SETUP\\n\\nBXP_4:     774,ul-6   enabled        false    essFdd150_Id2       C     ul    1972500         BandI      0,       0      0              0     SETUP     SETUP\\n', 'SETUP\\n\\nBXP_4:     769,dl-1   enabled        false     lte150_15360       B     dl    1832400       BandIII      0,       0    448            448     SETUP     SETUP\\n', 'SETUP\\n\\nBXP_4:     770,ul-2   enabled        false     lte150_15360       A     ul    1737400       BandIII      0,       0      0              0     SETUP     SETUP\\n', 'SETUP\\n\\nBXP_5:     773,dl-5   enabled        false    essFdd150_Id2       D     dl    2162500         BandI      0,       0    448            448     SETUP     SETUP\\n', 'SETUP\\n\\nBXP_5:     774,ul-6   enabled        false    essFdd150_Id2       C     ul    1972500         BandI      0,       0      0              0     SETUP     SETUP\\n', 'SETUP\\n\\nBXP_5:     769,dl-1   enabled        false     lte150_15360       B     dl    1832400       BandIII      0,       0    448            448     SETUP     SETUP\\n', 'SETUP\\n\\nBXP_5:     770,ul-2   enabled        false     lte150_15360       A     ul    1737400       BandIII      0,       0      0              0     SETUP     SETUP\\n', 'SETUP\\n\\nBXP_6:     769,dl-1   enabled        false    essFdd150_Id2       D     dl    2162500         BandI      0,       0    470            470     SETUP     SETUP\\n', 'SETUP\\n\\nBXP_6:     770,ul-2   enabled        false    essFdd150_Id2       C     ul    1972500         BandI      0,       0      0              0     SETUP     SETUP\\n', 'SETUP\\n\\nBXP_6:     773,dl-5   enabled        false     lte150_15360       B     dl    1832400       BandIII      0,       0    472            472     SETUP     SETUP\\n', 'SETUP\\n\\nBXP_6:     774,ul-6   enabled        false     lte150_15360       A     ul    1737400       BandIII      0,       0      0              0     SETUP     SETUP\\n', 'SETUP\\n\\nBXP_7:     773,dl-5   enabled        false    essFdd150_Id2       D     dl    2162500         BandI      0,       0    470            470     SETUP     SETUP\\n', 'SETUP\\n\\nBXP_7:     774,ul-6   enabled        false    essFdd150_Id2       C     ul    1972500         BandI      0,       0      0              0     SETUP     SETUP\\n', 'SETUP\\n\\nBXP_7:     769,dl-1   enabled        false     lte150_15360       B     dl    1832400       BandIII      0,       0    472            472     SETUP     SETUP\\n', 'SETUP\\n\\nBXP_7:     770,ul-2   enabled        false     lte150_15360       A     ul    1737400       BandIII      0,       0      0              0     SETUP     SETUP\\n'], 'timestamp': ['2023-03-02 13:46:30.066307', '2023-03-02 13:46:30.066307', '2023-03-02 13:46:30.066307', '2023-03-02 13:46:30.067316', '2023-03-02 13:46:30.067316', '2023-03-02 13:46:30.067316', '2023-03-02 13:46:30.067316', '2023-03-02 13:46:30.067316', '2023-03-02 13:46:30.067316', '2023-03-02 13:46:30.067316', '2023-03-02 13:46:30.068301', '2023-03-02 13:46:30.068301', '2023-03-02 13:46:30.068301', '2023-03-02 13:46:30.068301', '2023-03-02 13:46:30.068301', '2023-03-02 13:46:30.068301', '2023-03-02 13:46:30.068301', '2023-03-02 13:46:30.069292', '2023-03-02 13:46:30.069292', '2023-03-02 13:46:30.069292', '2023-03-02 13:46:30.069292', '2023-03-02 13:46:30.069292', '2023-03-02 13:46:30.069292', '2023-03-02 13:46:30.069292']}}"
   ]
  },
  {
   "cell_type": "code",
   "execution_count": null,
   "id": "7ddc08b0-17cb-4a11-bbc8-14f46f0f8a8f",
   "metadata": {},
   "outputs": [],
   "source": [
    "lines = []\n",
    "for index in self.text_file.data['test'].res_lines:\n",
    "    lines.append(self.text_file.lines[index])\n",
    "\n",
    "with open('D:\\\\projects\\\\ericsson_flow\\\\new_files\\\\ru_lock_unlock_normal2_simple.log', 'w', encoding='utf-8') as f:\n",
    "    f.write(''.join(lines))\n",
    "    \n",
    "# jesd|dfe|radiosw|rProxyMedian.cc # (txlProcBranch0|TxBranchCtrl0).*event com_ericsson_trithread:INFO"
   ]
  },
  {
   "cell_type": "code",
   "execution_count": null,
   "id": "b5da1f0d-de24-450c-b58b-010130d4d6d9",
   "metadata": {},
   "outputs": [],
   "source": [
    "data = self.text_file.data['dl'].res_key_value\n",
    "file = pd.DataFrame(pd.Series(data['Band']['value']), columns=['Band'])\n",
    "\n",
    "file['rfPort'] = pd.Series(data['rfPort']['value'])\n",
    "file['rfPort'] = 'Port_' + file['rfPort']\n",
    "file['carrierType'] = pd.Series(data['carrierType']['value'])\n",
    "file['Power'] = pd.Series(data['Power']['value'])\n",
    "\n",
    "result = {\n",
    "            'SiteName': self.text_file.file_name.split('_radio4480')[0],\n",
    "            'Version': self.text_file.data['version'].res_key_value['version']['value'][0],\n",
    "            'RadioQuantity': len(self.text_file.data['device'].res_lines)\n",
    "         }\n",
    "for band,port,carrier,power in file.values:\n",
    "    result[band+'_'+port+'_carrier_config'] = carrier\n",
    "    result[band+'_'+port+'_output_power_config'] = power\n",
    "\n",
    "self.result = result"
   ]
  },
  {
   "cell_type": "code",
   "execution_count": 59,
   "id": "c07042a0-ce72-48ff-8dd7-11415ec32f46",
   "metadata": {
    "tags": []
   },
   "outputs": [],
   "source": [
    "import json\n",
    "import pandas as pd\n",
    "\n",
    "data = pd.read_csv('C:\\\\Users\\\\MSI-NB\\\\Downloads\\\\6651_config_Denmark_68_Nodes\\\\KaiHong_4480config_origin_data.csv')\n",
    "data = data.fillna('')\n",
    "columns = ['SiteName', 'Bxp', 'Version']\n",
    "tmpl = sorted(list(set(data.columns).difference(set(columns))))\n",
    "band1 = []\n",
    "band3 = []\n",
    "for c in tmpl:\n",
    "    if 'BandIII_' in c:\n",
    "        band3.append(c)\n",
    "    elif 'BandI_' in c:\n",
    "        band1.append(c)\n",
    "        \n",
    "band1.extend(band3)\n",
    "columns = band1\n",
    "total = len(data)\n",
    "res = data.groupby(columns).size().reset_index(name='RadioAmount')\n",
    "for index,item in enumerate(json.loads(res.to_json(orient='records'))):\n",
    "    band1_dbm = []\n",
    "    band3_dbm = []\n",
    "    total_dbm = 0\n",
    "    for key in item.keys():\n",
    "        if ('output_power_BandIII' in key) & (item[key] != ''):\n",
    "            band3_dbm.append(item[key])\n",
    "        elif ('output_power_BandI' in key) & (item[key] != ''):\n",
    "            band1_dbm.append(item[key])\n",
    "    band1_dbm = sum(band1_dbm) if len(band1_dbm) > 0 else 0\n",
    "    band3_dbm = sum(band3_dbm) if len(band3_dbm) > 0 else 0\n",
    "    total_dbm = band1_dbm + band3_dbm\n",
    "    res.loc[index, ['BandI_dBm', 'BandIII_dBm', 'BandI+BandIII_dBm']] = [band1_dbm,band3_dbm,total_dbm]\n",
    "res['Percentage'] = res['RadioAmount'] / total\n",
    "res.to_csv('C:\\\\Users\\\\MSI-NB\\\\Downloads\\\\6651_config_Denmark_68_Nodes\\\\6651_config_Sweden_204_Nodes_config_summary.csv', index=False)"
   ]
  },
  {
   "cell_type": "code",
   "execution_count": null,
   "id": "9bfaa13e-e71e-4a3c-8078-c27a7cdb7d15",
   "metadata": {},
   "outputs": [],
   "source": [
    "items = self.text_analysis.batch_statistic.table['table'].values\n",
    "data = pd.DataFrame()\n",
    "for index, item in enumerate(items):\n",
    "    print(index)\n",
    "    try:\n",
    "        tmp = pd.DataFrame(item)\n",
    "    except Exception as e:\n",
    "        print(str(e))\n",
    "        continue\n",
    "    data = data.append(tmp, ignore_index=True)\n",
    "    \n",
    "columns = ['SiteName', 'Bxp', 'Version']\n",
    "tmpl = sorted(list(set(data.columns).difference(set(columns))))\n",
    "band1 = []\n",
    "band3 = []\n",
    "for c in tmpl:\n",
    "    if 'BandIII_' in c:\n",
    "        band3.append(c)\n",
    "    elif 'BandI_' in c:\n",
    "        band1.append(c)\n",
    "        \n",
    "columns.extend(band1)\n",
    "columns.extend(band3)\n",
    "data = data.reindex(columns=columns)\n",
    "data.to_csv('C:\\\\Users\\\\MSI-NB\\\\Downloads\\\\6651_config_Denmark_68_Nodes\\\\KaiHong_4480config_origin_data.csv', index=False)"
   ]
  },
  {
   "cell_type": "code",
   "execution_count": null,
   "id": "9532a7d2-c2ec-41ae-806b-0a25c956fc03",
   "metadata": {},
   "outputs": [
    {
     "data": {
      "text/plain": [
       "[{'a': 1, 'b': 2}, {'a': 1, 'b': 2}]"
      ]
     },
     "execution_count": 7,
     "metadata": {},
     "output_type": "execute_result"
    }
   ],
   "source": [
    "data = self.text_file.data['dl'].res_key_value\n",
    "file = pd.DataFrame(pd.Series(data['Band']['value']), columns=['Band'])\n",
    "\n",
    "file['bxp'] = pd.Series(data['bxp']['value'])\n",
    "file['rfPort'] = pd.Series(data['rfPort']['value'])\n",
    "file['rfPort'] = 'Port_' + file['rfPort']\n",
    "file['carrierType'] = pd.Series(data['carrierType']['value'])\n",
    "file['Power'] = pd.Series(data['Power']['value'])\n",
    "\n",
    "result = []\n",
    "for bxp in set(file['bxp'].values):\n",
    "    item = {\n",
    "                'SiteName': self.text_file.file_name.split('.log')[0],\n",
    "                'Bxp': bxp,\n",
    "                'Version': self.text_file.data['version'].res_key_value['version']['value'][0]\n",
    "             }\n",
    "    tmp = file.loc[(file['bxp'] == bxp), :].reset_index(drop=True)\n",
    "    for band,bxp,port,carrier,power in tmp.values:\n",
    "        if band in ['BandI', 'BandIII']:\n",
    "            cc = band+'_'+port+'_carrier_config'\n",
    "            pc = band+'_'+port+'_output_power_config'\n",
    "            dBm = 'output_power_' + band+'_'+port + '_dBm'\n",
    "            if cc in item:\n",
    "                item[cc] = carrier + ' + ' + item[cc] if carrier < item[cc] else item[cc] + ' + ' + carrier\n",
    "                item[pc] = power + ' + ' + item[pc] if carrier < item[cc] else item[pc] + ' + ' + power\n",
    "                item[dBm] = item[dBm] + round(10**(int(power)/100)/1000, 1)\n",
    "            else:\n",
    "                item[cc] = carrier\n",
    "                item[pc] = power\n",
    "                item[dBm] = round(10**(int(power)/100)/1000, 1)\n",
    "    if len(item.keys())> 3:\n",
    "        result.append(item)\n",
    "\n",
    "self.result = result"
   ]
  },
  {
   "cell_type": "code",
   "execution_count": 57,
   "id": "26105713-d633-4477-acfe-b4b817a1345c",
   "metadata": {
    "tags": []
   },
   "outputs": [
    {
     "name": "stdout",
     "output_type": "stream",
     "text": [
      "True\n"
     ]
    }
   ],
   "source": [
    "if 'e1' < 'w1':\n",
    "    print(True)"
   ]
  },
  {
   "cell_type": "code",
   "execution_count": null,
   "id": "a0a92b56-d3d2-4fbf-88f3-dbaf16daab6c",
   "metadata": {},
   "outputs": [],
   "source": []
  }
 ],
 "metadata": {
  "kernelspec": {
   "display_name": "ericsson_toolsets_env",
   "language": "python",
   "name": "ericsson_toolsets_env"
  },
  "language_info": {
   "codemirror_mode": {
    "name": "ipython",
    "version": 3
   },
   "file_extension": ".py",
   "mimetype": "text/x-python",
   "name": "python",
   "nbconvert_exporter": "python",
   "pygments_lexer": "ipython3",
   "version": "3.10.10"
  }
 },
 "nbformat": 4,
 "nbformat_minor": 5
}
