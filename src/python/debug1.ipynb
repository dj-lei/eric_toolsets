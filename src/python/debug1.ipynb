{
 "cells": [
  {
   "cell_type": "code",
   "execution_count": 15,
   "id": "87a49290-7aa0-41d4-b7d4-9f9eadf2784a",
   "metadata": {
    "tags": []
   },
   "outputs": [],
   "source": [
    "import numpy as np\n",
    "import pandas as pd\n",
    "\n",
    "y = [50 - i for i in range(50)]\n",
    "y += [0 if i % 2 == 0 else 150 for i in range(50)]\n",
    "# nosie = np.random.normal(0,10,len(y))\n",
    "# y = [ y[i] + nosie[i] for i in range (len(y))]  \n",
    "data = pd.DataFrame(y, columns=['y'])\n",
    "\n",
    "z = [250 if i % 2 == 0 else 170 for i in range(50)]\n",
    "z += [200 if i % 2 == 0 else 150 for i in range(50)]\n",
    "data['z'] = pd.Series(z)\n",
    "# data.loc[0:50, 'y'] = 255\n",
    "# data.loc[51:53, 'y'] = 22\n",
    "data.loc[50:100, 'y'] = 0\n",
    "# data.loc[52:100, 'z'] = 1\n",
    "data = data.reset_index()\n",
    "data = data.rename(columns={'index':'x'})"
   ]
  },
  {
   "cell_type": "code",
   "execution_count": 16,
   "id": "e559df49-a936-499e-8bd3-50aea82ce9c3",
   "metadata": {
    "tags": []
   },
   "outputs": [
    {
     "name": "stdout",
     "output_type": "stream",
     "text": [
      "[32, 100]\n"
     ]
    }
   ],
   "source": [
    "import matplotlib.pyplot as plt  # for display purposes\n",
    "import ruptures as rpt  # our package\n",
    "\n",
    "signal = np.array([[i] for i in data['y']])\n",
    "algo = rpt.Dynp(model=\"l2\", min_size=1, jump=1).fit(signal)\n",
    "result = algo.predict(n_bkps=1)\n",
    "print(result)"
   ]
  },
  {
   "cell_type": "code",
   "execution_count": null,
   "id": "84eb4860-b858-46d8-9a01-a28c656666a6",
   "metadata": {
    "tags": []
   },
   "outputs": [],
   "source": [
    "if result[0] != 1:\n",
    "    sub_data = data.loc[result[0]-1:result[1], :]\n",
    "else:\n",
    "    sub_data = data.loc[result[0]:result[1], :]\n",
    "\n",
    "_type = 'Normal'\n",
    "if (result[0:2] == [1,2]) & (len(data) < 7):\n",
    "    if sub_data['y'].values[0] < sub_data['y'].values[1]:\n",
    "        _type = 'AbnormalUp'\n",
    "    elif sub_data['y'].values[0] > sub_data['y'].values[1]:\n",
    "        _type = 'AbnormalDown'\n",
    "else:\n",
    "    upper_boundary = sub_data['y'].values[0]\n",
    "    lower_boundary = sub_data['y'].values[-1]\n",
    "    points = []\n",
    "    for v in sub_data['y'].values[1:-1]:\n",
    "        if (v > upper_boundary) & (v >= lower_boundary):\n",
    "            if 0.6 * (v - upper_boundary) + upper_boundary < lower_boundary:\n",
    "                points.append('AbnormalUp')\n",
    "            else:\n",
    "                points.append('AbnormalUpPulse')\n",
    "            continue\n",
    "\n",
    "        if (v < upper_boundary) & (v <= lower_boundary):\n",
    "            if 0.4 * (upper_boundary - v) + v > lower_boundary:\n",
    "                points.append('AbnormalDown')\n",
    "            else:\n",
    "                points.append('AbnormalDownPulse')\n",
    "            continue\n",
    "\n",
    "        if (v > upper_boundary) & (v <= lower_boundary):\n",
    "            points.append('AbnormalUp')\n",
    "            continue\n",
    "\n",
    "        if (v < upper_boundary) & (v >= lower_boundary):\n",
    "            points.append('AbnormalDown')\n",
    "            continue\n",
    "\n",
    "    for point in points:\n",
    "        if 'Pulse' in point:\n",
    "            _type = point\n",
    "            break\n",
    "        elif 'Abnormal' in point:\n",
    "            _type = point\n",
    "_type"
   ]
  },
  {
   "cell_type": "code",
   "execution_count": 17,
   "id": "5dc46c78-bef3-4501-8f46-de64721e186f",
   "metadata": {
    "tags": []
   },
   "outputs": [
    {
     "data": {
      "image/png": "[encoded data removed]",
      "text/plain": [
       "<Figure size 1000x200 with 1 Axes>"
      ]
     },
     "metadata": {},
     "output_type": "display_data"
    }
   ],
   "source": [
    "rpt.display(signal, result, result)\n",
    "plt.show()"
   ]
  },
  {
   "cell_type": "code",
   "execution_count": null,
   "id": "afb461a2-c091-4757-9df6-2ef2c57d6e0f",
   "metadata": {
    "tags": []
   },
   "outputs": [],
   "source": [
    "signal = np.array([[y,z] for y,z in data[['y', 'z']].values])\n",
    "algo = rpt.Dynp(model=\"l2\", min_size=1, jump=1).fit(signal)\n",
    "result = algo.predict(n_bkps=2)\n",
    "print(result)"
   ]
  },
  {
   "cell_type": "code",
   "execution_count": null,
   "id": "73b858f6-5d65-432e-8bc9-27cd579dfc4d",
   "metadata": {
    "tags": []
   },
   "outputs": [],
   "source": [
    "rpt.display(signal, result, result)\n",
    "plt.show()"
   ]
  },
  {
   "cell_type": "code",
   "execution_count": null,
   "id": "20e8611a-7ada-4394-b93c-08a5c0b8c4de",
   "metadata": {
    "tags": []
   },
   "outputs": [],
   "source": [
    "a = [1,2,3]\n",
    "a[0:10]"
   ]
  },
  {
   "cell_type": "code",
   "execution_count": null,
   "id": "a25b85af-86d5-45ab-accd-8134c55d4a44",
   "metadata": {},
   "outputs": [],
   "source": [
    "import statsmodels.formula.api as smapi\n",
    "from statsmodels.tsa.seasonal import seasonal_decompose\n",
    "from dateutil.parser import parse\n",
    "\n",
    "import matplotlib as mpl\n",
    "import matplotlib.pyplot as plt   # data visualization\n",
    "import seaborn as sns             # statistical data visualization\n",
    "\n",
    "\n",
    "# Multiplicative Decomposition \n",
    "multiplicative_decomposition = seasonal_decompose(data['y'], model='multiplicative', period=30)\n",
    "\n",
    "# Additive Decomposition\n",
    "additive_decomposition = seasonal_decompose(data['y'], model='additive', period=30)\n",
    "\n",
    "# Plot\n",
    "plt.rcParams.update({'figure.figsize': (16,12)})\n",
    "multiplicative_decomposition.plot().suptitle('Multiplicative Decomposition', fontsize=16)\n",
    "plt.tight_layout(rect=[0, 0.03, 1, 0.95])\n",
    "\n",
    "additive_decomposition.plot().suptitle('Additive Decomposition', fontsize=16)\n",
    "plt.tight_layout(rect=[0, 0.03, 1, 0.95])\n",
    "\n",
    "plt.show()"
   ]
  },
  {
   "cell_type": "code",
   "execution_count": null,
   "id": "bea2bde2-d9a2-4b83-b7f0-0b10599bb5ba",
   "metadata": {},
   "outputs": [],
   "source": [
    "self.result = False\n",
    "if ('packname' in self.text_analysis_model.alias_data['PackageName'].res_key_value) & ('errorname' in self.text_analysis_model.alias_data['ErrorName'].res_key_value):\n",
    "    for item in self.text_analysis_model.alias_data['ErrorName'].res_key_value['errorname']['timestamp']:\n",
    "        if self.text_analysis_model.alias_data['PackageName'].res_key_value['packname']['timestamp'][0] > item:\n",
    "            self.result = True        \n",
    "else:\n",
    "    self.result = 'unknow'"
   ]
  },
  {
   "cell_type": "code",
   "execution_count": null,
   "id": "e10b15da-c4f0-4137-b17d-ef5c4977b54f",
   "metadata": {},
   "outputs": [],
   "source": [
    "table = self.text_analysis_model.batch_statistic_model.table\n",
    "tt = table.loc[(table['BeforeError'] == True) & (table['AfterError'] == False),:]\n",
    "self.result = len(tt) / len(table)"
   ]
  },
  {
   "cell_type": "code",
   "execution_count": null,
   "id": "53981a11-2e18-403d-b6f1-f9506db0d089",
   "metadata": {},
   "outputs": [],
   "source": [
    "self.text_analysis_model.batch_statistic_model.table.to_csv('D:\\\\projects\\\\ericsson_flow\\\\test.csv', index=False)"
   ]
  },
  {
   "cell_type": "code",
   "execution_count": null,
   "id": "337ca402-ef3a-42fb-a02a-348a21c13b1f",
   "metadata": {},
   "outputs": [],
   "source": [
    "self.result = False\n",
    "high_count = 0\n",
    "low_count = 0\n",
    "for v in self.text_analysis_model.alias_data['search_branchI'].res_key_value['txAtt']['value']:\n",
    "    if v >= 255:\n",
    "        high_count = high_count + 1\n",
    "        \n",
    "    if v <= 50:\n",
    "        low_count = low_count + 1\n",
    "if (high_count > 3) & (low_count > 3):\n",
    "    self.result = True"
   ]
  },
  {
   "cell_type": "code",
   "execution_count": null,
   "id": "0d773ea3-fdaf-40a3-af9b-bcd8ac3f3f0d",
   "metadata": {},
   "outputs": [],
   "source": [
    "self.result = False\n",
    "if len(self.text_analysis_model.alias_data['Deframer_interrupt_happened'].res_lines) > 0:\n",
    "    self.result = True"
   ]
  },
  {
   "cell_type": "code",
   "execution_count": null,
   "id": "3f5be493-6edc-4217-bf11-312c97753c29",
   "metadata": {},
   "outputs": [],
   "source": [
    "self.result = False\n",
    "if (self.text_analysis_model.alias_data['branchI_txatt_bas'].result == True) | (self.text_analysis_model.alias_data['branchJ_txatt_bas'].result == True) | (self.text_analysis_model.alias_data['branchK_txatt_bas'].result == True) | (self.text_analysis_model.alias_data['branchL_txatt_bas'].result == True):\n",
    "    self.result = True"
   ]
  },
  {
   "cell_type": "code",
   "execution_count": null,
   "id": "0cd36f67-7ceb-4b73-a7e0-81ab6f0190f6",
   "metadata": {},
   "outputs": [],
   "source": [
    "self.result = False\n",
    "if (self.text_analysis_model.alias_data['branchI_txatt_bas'].result == True) & (self.text_analysis_model.alias_data['branchJ_txatt_bas'].result == True) & (self.text_analysis_model.alias_data['branchK_txatt_bas'].result == True) & (self.text_analysis_model.alias_data['branchL_txatt_bas'].result == True):\n",
    "    self.result = True"
   ]
  },
  {
   "cell_type": "code",
   "execution_count": null,
   "id": "2e15f085-259f-4074-bd31-ab7a8720e801",
   "metadata": {
    "tags": []
   },
   "outputs": [],
   "source": [
    "import socketio\n",
    "sio = socketio.AsyncClient(reconnection=False)\n",
    "await sio.connect('http://127.0.0.1:8000', namespaces=['/TextAnalysis/FileContainer'])"
   ]
  },
  {
   "cell_type": "code",
   "execution_count": null,
   "id": "f03bc044-3bbb-4582-b6d7-0f423acc63b9",
   "metadata": {
    "tags": []
   },
   "outputs": [],
   "source": [
    "await sio.emit('new_file', ['D:\\\\Projects\\\\ericsson_flow\\\\new_files\\\\E55G948878_LE_SARONGGE_BXP_6_telog.log'], namespace='/TextAnalysis/FileContainer')"
   ]
  },
  {
   "cell_type": "code",
   "execution_count": null,
   "id": "b29f62f9-891f-4641-aa00-ad076916d7d2",
   "metadata": {
    "tags": []
   },
   "outputs": [],
   "source": [
    "await sio.emit('load_config', 'D:\\\\projects\\\\ericsson_flow\\\\new_files\\\\config1.txt', namespace='/TextAnalysis/FileContainer')"
   ]
  },
  {
   "cell_type": "code",
   "execution_count": null,
   "id": "67fb27fd-377f-4b2f-a56d-b7f99749cbd1",
   "metadata": {
    "tags": []
   },
   "outputs": [],
   "source": [
    "# await sio.disconnect\n",
    "sio = socketio.AsyncClient(reconnection=False)\n",
    "await sio.connect('http://127.0.0.1:8000', namespaces=['/TextAnalysis/FileContainer', '/TextAnalysis/FileContainer/E55G948878_LE_SARONGGE_BXP_6_telog.log/TextFileFunction/SearchFunction/search_branchA'])"
   ]
  },
  {
   "cell_type": "code",
   "execution_count": null,
   "id": "e00b7ebe-2c69-452b-92a6-b819d607f3fa",
   "metadata": {
    "tags": []
   },
   "outputs": [],
   "source": [
    "def printm(model):\n",
    "    print(model)\n",
    "\n",
    "await sio.emit('model', namespace='/TextAnalysis/FileContainer/E55G948878_LE_SARONGGE_BXP_6_telog.log/TextFileFunction/SearchFunction/search_branchA', callback=printm)"
   ]
  },
  {
   "cell_type": "code",
   "execution_count": null,
   "id": "2a1768f2-5582-488b-882b-3c5bad989fde",
   "metadata": {
    "tags": []
   },
   "outputs": [],
   "source": [
    "class A(object):\n",
    "    def __init__(self):\n",
    "        self.a = 1\n",
    "        self.b = 2\n",
    "        \n",
    "    def __getattribute__(self, obj):\n",
    "        print(obj)\n",
    "        return object.__getattribute__(self, obj)\n",
    "    \n",
    "c = A()\n",
    "c.a * c.b"
   ]
  },
  {
   "cell_type": "code",
   "execution_count": null,
   "id": "3b68ae71-a31a-43eb-b5c8-5858319c55e5",
   "metadata": {
    "tags": []
   },
   "outputs": [],
   "source": [
    "# from asyncio import get_event_loop\n",
    "from text_analysis import *\n",
    "\n",
    "# loop = get_event_loop()\n",
    "# loop.run_until_complete(TextAnalysisModel('parallel'))\n",
    "\n",
    "web.run_app(app, host=\"127.0.0.1\", port=8000)"
   ]
  },
  {
   "cell_type": "code",
   "execution_count": null,
   "id": "d7bed893-12aa-40c5-8aa0-685e15d37007",
   "metadata": {
    "tags": []
   },
   "outputs": [],
   "source": [
    "from dateutil.parser import parse as dp\n",
    "\n",
    "str(dp('221210-12:40:51', yearfirst=True))"
   ]
  },
  {
   "cell_type": "code",
   "execution_count": null,
   "id": "c843578f-c129-4057-abfe-4e4633cc13e8",
   "metadata": {
    "tags": []
   },
   "outputs": [],
   "source": [
    "if '2022-12-11 01:12:21.105110' > '2022-12-11 01:12:22':\n",
    "    print(True)"
   ]
  },
  {
   "cell_type": "code",
   "execution_count": null,
   "id": "270d155b-32e7-4219-8d01-047fc736d012",
   "metadata": {},
   "outputs": [],
   "source": []
  }
 ],
 "metadata": {
  "kernelspec": {
   "display_name": "ericsson_toolsets_env",
   "language": "python",
   "name": "ericsson_toolsets_env"
  },
  "language_info": {
   "codemirror_mode": {
    "name": "ipython",
    "version": 3
   },
   "file_extension": ".py",
   "mimetype": "text/x-python",
   "name": "python",
   "nbconvert_exporter": "python",
   "pygments_lexer": "ipython3",
   "version": "3.10.10"
  }
 },
 "nbformat": 4,
 "nbformat_minor": 5
}
